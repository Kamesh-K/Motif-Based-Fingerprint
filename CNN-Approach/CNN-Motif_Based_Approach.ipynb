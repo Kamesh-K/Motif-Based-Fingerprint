{
 "cells": [
  {
   "cell_type": "code",
   "execution_count": 7,
   "metadata": {},
   "outputs": [],
   "source": [
    "import numpy as np\n",
    "import pandas as pd\n",
    "import os \n",
    "import matplotlib.pyplot as plt\n",
    "import sklearn.metrics as metrics\n",
    "from sklearn.preprocessing import MinMaxScaler, StandardScaler\n",
    "from sklearn.model_selection import train_test_split\n",
    "import tensorflow as tf\n",
    "from tensorflow import keras\n",
    "from tensorflow.keras.models import Sequential\n",
    "from tensorflow.keras.layers import Dense,Dropout\n",
    "from tensorflow.keras.utils import to_categorical\n",
    "import matplotlib.pyplot as plt \n",
    "from sklearn.kernel_ridge import KernelRidge\n",
    "import seaborn as sns\n",
    "from rdkit import Chem\n",
    "\n",
    "from tensorflow.keras import datasets, layers, models\n",
    "base_path = os.getcwd()"
   ]
  },
  {
   "cell_type": "code",
   "execution_count": 5,
   "metadata": {},
   "outputs": [
    {
     "data": {
      "text/html": [
       "<div>\n",
       "<style scoped>\n",
       "    .dataframe tbody tr th:only-of-type {\n",
       "        vertical-align: middle;\n",
       "    }\n",
       "\n",
       "    .dataframe tbody tr th {\n",
       "        vertical-align: top;\n",
       "    }\n",
       "\n",
       "    .dataframe thead th {\n",
       "        text-align: right;\n",
       "    }\n",
       "</style>\n",
       "<table border=\"1\" class=\"dataframe\">\n",
       "  <thead>\n",
       "    <tr style=\"text-align: right;\">\n",
       "      <th></th>\n",
       "      <th>A</th>\n",
       "      <th>B</th>\n",
       "      <th>C</th>\n",
       "      <th>mu</th>\n",
       "      <th>alpha</th>\n",
       "      <th>homo</th>\n",
       "      <th>lumo</th>\n",
       "      <th>gap</th>\n",
       "      <th>r2</th>\n",
       "      <th>zpve</th>\n",
       "      <th>U0</th>\n",
       "      <th>U</th>\n",
       "      <th>H</th>\n",
       "      <th>G</th>\n",
       "      <th>CV</th>\n",
       "      <th>Structure</th>\n",
       "    </tr>\n",
       "  </thead>\n",
       "  <tbody>\n",
       "    <tr>\n",
       "      <th>0</th>\n",
       "      <td>157.71180</td>\n",
       "      <td>157.709970</td>\n",
       "      <td>157.706990</td>\n",
       "      <td>0.0000</td>\n",
       "      <td>13.21</td>\n",
       "      <td>-0.3877</td>\n",
       "      <td>0.1171</td>\n",
       "      <td>0.5048</td>\n",
       "      <td>35.3641</td>\n",
       "      <td>0.044749</td>\n",
       "      <td>-40.478930</td>\n",
       "      <td>-40.476062</td>\n",
       "      <td>-40.475117</td>\n",
       "      <td>-40.498597</td>\n",
       "      <td>6.469</td>\n",
       "      <td>C</td>\n",
       "    </tr>\n",
       "    <tr>\n",
       "      <th>1</th>\n",
       "      <td>799.58812</td>\n",
       "      <td>437.903860</td>\n",
       "      <td>282.945450</td>\n",
       "      <td>1.8511</td>\n",
       "      <td>6.31</td>\n",
       "      <td>-0.2928</td>\n",
       "      <td>0.0687</td>\n",
       "      <td>0.3615</td>\n",
       "      <td>19.0002</td>\n",
       "      <td>0.021375</td>\n",
       "      <td>-76.404702</td>\n",
       "      <td>-76.401867</td>\n",
       "      <td>-76.400922</td>\n",
       "      <td>-76.422349</td>\n",
       "      <td>6.002</td>\n",
       "      <td>O</td>\n",
       "    </tr>\n",
       "    <tr>\n",
       "      <th>2</th>\n",
       "      <td>0.00000</td>\n",
       "      <td>35.610036</td>\n",
       "      <td>35.610036</td>\n",
       "      <td>0.0000</td>\n",
       "      <td>16.28</td>\n",
       "      <td>-0.2845</td>\n",
       "      <td>0.0506</td>\n",
       "      <td>0.3351</td>\n",
       "      <td>59.5248</td>\n",
       "      <td>0.026841</td>\n",
       "      <td>-77.308427</td>\n",
       "      <td>-77.305527</td>\n",
       "      <td>-77.304583</td>\n",
       "      <td>-77.327429</td>\n",
       "      <td>8.574</td>\n",
       "      <td>C#C</td>\n",
       "    </tr>\n",
       "    <tr>\n",
       "      <th>3</th>\n",
       "      <td>285.48839</td>\n",
       "      <td>38.982300</td>\n",
       "      <td>34.298920</td>\n",
       "      <td>2.1089</td>\n",
       "      <td>14.18</td>\n",
       "      <td>-0.2670</td>\n",
       "      <td>-0.0406</td>\n",
       "      <td>0.2263</td>\n",
       "      <td>59.9891</td>\n",
       "      <td>0.026603</td>\n",
       "      <td>-114.483613</td>\n",
       "      <td>-114.480746</td>\n",
       "      <td>-114.479802</td>\n",
       "      <td>-114.505268</td>\n",
       "      <td>6.413</td>\n",
       "      <td>C=O</td>\n",
       "    </tr>\n",
       "    <tr>\n",
       "      <th>4</th>\n",
       "      <td>80.46225</td>\n",
       "      <td>19.906490</td>\n",
       "      <td>19.906330</td>\n",
       "      <td>0.0000</td>\n",
       "      <td>23.95</td>\n",
       "      <td>-0.3385</td>\n",
       "      <td>0.1041</td>\n",
       "      <td>0.4426</td>\n",
       "      <td>109.5031</td>\n",
       "      <td>0.074542</td>\n",
       "      <td>-79.764152</td>\n",
       "      <td>-79.760666</td>\n",
       "      <td>-79.759722</td>\n",
       "      <td>-79.787269</td>\n",
       "      <td>10.098</td>\n",
       "      <td>CC</td>\n",
       "    </tr>\n",
       "  </tbody>\n",
       "</table>\n",
       "</div>"
      ],
      "text/plain": [
       "           A           B           C      mu  alpha    homo    lumo     gap  \\\n",
       "0  157.71180  157.709970  157.706990  0.0000  13.21 -0.3877  0.1171  0.5048   \n",
       "1  799.58812  437.903860  282.945450  1.8511   6.31 -0.2928  0.0687  0.3615   \n",
       "2    0.00000   35.610036   35.610036  0.0000  16.28 -0.2845  0.0506  0.3351   \n",
       "3  285.48839   38.982300   34.298920  2.1089  14.18 -0.2670 -0.0406  0.2263   \n",
       "4   80.46225   19.906490   19.906330  0.0000  23.95 -0.3385  0.1041  0.4426   \n",
       "\n",
       "         r2      zpve          U0           U           H           G      CV  \\\n",
       "0   35.3641  0.044749  -40.478930  -40.476062  -40.475117  -40.498597   6.469   \n",
       "1   19.0002  0.021375  -76.404702  -76.401867  -76.400922  -76.422349   6.002   \n",
       "2   59.5248  0.026841  -77.308427  -77.305527  -77.304583  -77.327429   8.574   \n",
       "3   59.9891  0.026603 -114.483613 -114.480746 -114.479802 -114.505268   6.413   \n",
       "4  109.5031  0.074542  -79.764152  -79.760666  -79.759722  -79.787269  10.098   \n",
       "\n",
       "  Structure  \n",
       "0         C  \n",
       "1         O  \n",
       "2       C#C  \n",
       "3       C=O  \n",
       "4        CC  "
      ]
     },
     "execution_count": 5,
     "metadata": {},
     "output_type": "execute_result"
    }
   ],
   "source": [
    "train_data = pd.read_csv(\"Train_Data.csv\")\n",
    "max_size = len(train_data)\n",
    "structures = train_data['Structure']\n",
    "train_data.head()"
   ]
  },
  {
   "cell_type": "code",
   "execution_count": 8,
   "metadata": {},
   "outputs": [],
   "source": [
    "possible_athyd = []\n",
    "for i in range(max_size):\n",
    "    m = Chem.AddHs(Chem.MolFromSmiles(structures[i]))\n",
    "    Chem.Kekulize(m)\n",
    "    n = m.GetNumAtoms(onlyExplicit=False)\n",
    "    for x in m.GetAtoms():\n",
    "        atom = x.GetSymbol()\n",
    "        hybr = str(len(x.GetBonds()))\n",
    "        possible_athyd.append(atom+hybr)"
   ]
  },
  {
   "cell_type": "code",
   "execution_count": 9,
   "metadata": {},
   "outputs": [],
   "source": [
    "def query_bonds(molecule):\n",
    "    structure_bonds = []\n",
    "    Chem.Kekulize(molecule)\n",
    "    molecule_size = len(molecule.GetAtoms())\n",
    "    hybridization_atoms = []\n",
    "    for x in molecule.GetAtoms():\n",
    "        y = x.GetBonds()\n",
    "        for z in y:\n",
    "            a1 = str(z.GetBeginAtomIdx())\n",
    "            a2 = str(z.GetEndAtomIdx())\n",
    "            hybrd_1 = str(len(molecule.GetAtomWithIdx(int(a1)).GetBonds()))\n",
    "            hybrd_2 = str(len(molecule.GetAtomWithIdx(int(a2)).GetBonds()))\n",
    "            sym_1 = str(molecule.GetAtomWithIdx(int(a1)).GetSymbol())\n",
    "            sym_2 = str(molecule.GetAtomWithIdx(int(a2)).GetSymbol())\n",
    "            fingerprint_bond = sorted([sym_1+hybrd_1,sym_2+hybrd_2])\n",
    "            fingerprint_bond = ''.join(fingerprint_bond)\n",
    "            bond_between = a1+'-'+a2+'#'+sym_1+'-'+hybrd_1+'-'+sym_2+'-'+hybrd_2+'#'+fingerprint_bond\n",
    "            structure_bonds.append(bond_between)\n",
    "    return set(structure_bonds)"
   ]
  },
  {
   "cell_type": "code",
   "execution_count": 10,
   "metadata": {},
   "outputs": [],
   "source": [
    "possible_bonds = []\n",
    "for index in range(max_size):\n",
    "    m = Chem.AddHs(Chem.MolFromSmiles(structures[index]))\n",
    "    bonds = query_bonds(m)\n",
    "    bonds_split = []\n",
    "    for i in bonds:\n",
    "        bonds_split.append(i.split('#'))\n",
    "    bonds_split = np.array(bonds_split).flatten()\n",
    "    bonds_split = np.reshape(bonds_split,(int(len(bonds_split)/3),3))\n",
    "    possible_bonds.append(list(set(bonds_split[:,2])))\n",
    "possible_bonds_flat = []\n",
    "for sublist in possible_bonds:\n",
    "    for item in sublist:\n",
    "        possible_bonds_flat.append(item)\n",
    "possible_bonds_flat = set(possible_bonds_flat)"
   ]
  },
  {
   "cell_type": "code",
   "execution_count": 13,
   "metadata": {},
   "outputs": [
    {
     "data": {
      "text/plain": [
       "{'C2C2',\n",
       " 'C2C3',\n",
       " 'C2C4',\n",
       " 'C2H1',\n",
       " 'C3C3',\n",
       " 'C3C4',\n",
       " 'C3H1',\n",
       " 'C3O1',\n",
       " 'C3O2',\n",
       " 'C4C4',\n",
       " 'C4H1',\n",
       " 'C4O2',\n",
       " 'H1O2'}"
      ]
     },
     "execution_count": 13,
     "metadata": {},
     "output_type": "execute_result"
    }
   ],
   "source": [
    "possible_bonds_flat"
   ]
  },
  {
   "cell_type": "code",
   "execution_count": 17,
   "metadata": {},
   "outputs": [],
   "source": [
    "max_atoms = 0\n",
    "for index in range(max_size):\n",
    "    m = Chem.AddHs(Chem.MolFromSmiles(structures[index]))\n",
    "    n = m.GetNumAtoms(onlyExplicit=False)    \n",
    "    if max_atoms < n:\n",
    "        max_atoms = n"
   ]
  },
  {
   "cell_type": "code",
   "execution_count": 20,
   "metadata": {},
   "outputs": [],
   "source": [
    "def query_pair_bonds(molecule):\n",
    "    m = Chem.AddHs(Chem.MolFromSmiles(molecule))\n",
    "    coordination = np.zeros(len(m.GetAtoms()),dtype=np.int64)\n",
    "    Chem.Kekulize(m)\n",
    "    atoms = m.GetAtoms()\n",
    "    num_atoms = len(atoms)\n",
    "    for atom_id in range(num_atoms):\n",
    "        bonds = atoms[atom_id].GetBonds()\n",
    "        coordination[atom_id] = int(len(bonds))    \n",
    "    triplets = []\n",
    "    for atom_id in range(num_atoms):\n",
    "        bonds= atoms[atom_id].GetBonds()\n",
    "        num_bonds = len(bonds)\n",
    "        mid_sym = atoms[atom_id].GetSymbol()\n",
    "        mid_hybrd = coordination[atom_id]\n",
    "        for bond_1 in range(num_bonds):\n",
    "            for bond_2 in range(num_bonds):\n",
    "                if bond_1 == bond_2:\n",
    "                    continue\n",
    "                else:\n",
    "                    a1 = bonds[bond_1].GetOtherAtomIdx(atom_id)\n",
    "                    a2 = bonds[bond_2].GetOtherAtomIdx(atom_id)\n",
    "                    if a1>a2:\n",
    "                        str_1 = str(a1)+'-'+str(atom_id)+'-'+str(a2) \n",
    "                    else:\n",
    "                        str_1 = str(a2)+'-'+str(atom_id)+'-'+str(a1)\n",
    "                    sym_1 = atoms[a1].GetSymbol()\n",
    "                    sym_2 = atoms[a2].GetSymbol()\n",
    "                    hybrd_1 = coordination[a1]\n",
    "                    hybrd_2 = coordination[a2]\n",
    "                    fingerprint_bond = str(mid_sym)+str(int(mid_hybrd))+''.join(sorted([sym_1+str(int(hybrd_1)),sym_2+str(hybrd_2)]))\n",
    "                    triplets.append(sym_1 +'#'+ fingerprint_bond)\n",
    "    return set(triplets)\n",
    "possible_3_atom_structures = []\n",
    "for structure in structures:\n",
    "    bonds = query_pair_bonds(structure)\n",
    "    bonds_split = []\n",
    "    for i in bonds:\n",
    "        bonds_split.append(i.split('#'))\n",
    "    bonds_split = np.array(bonds_split).flatten()\n",
    "    bonds_split = np.reshape(bonds_split,(int(len(bonds_split)/2),2))\n",
    "    bonds_in_molecule = bonds_split[:,1]\n",
    "    possible_3_atom_structures.append(set(bonds_in_molecule))\n",
    "possible_3_atom_flat = []\n",
    "for sublist in possible_3_atom_structures:\n",
    "    for item in sublist:\n",
    "        possible_3_atom_flat.append(item)\n",
    "possible_3_atom = set(possible_3_atom_flat)"
   ]
  },
  {
   "cell_type": "code",
   "execution_count": 41,
   "metadata": {},
   "outputs": [
    {
     "data": {
      "image/png": "[encoded data removed]",
      "text/plain": [
       "<rdkit.Chem.rdchem.Mol at 0x7fa90483bb20>"
      ]
     },
     "execution_count": 41,
     "metadata": {},
     "output_type": "execute_result"
    }
   ],
   "source": [
    "molecule = Chem.AddHs(Chem.MolFromSmiles(structures[10]))\n",
    "molecule"
   ]
  },
  {
   "cell_type": "code",
   "execution_count": 42,
   "metadata": {},
   "outputs": [],
   "source": [
    "Chem.Kekulize(molecule)\n",
    "molecule\n",
    "molecule_size = len(molecule.GetAtoms())\n",
    "x = molecule.GetAtoms()"
   ]
  },
  {
   "cell_type": "code",
   "execution_count": 43,
   "metadata": {},
   "outputs": [],
   "source": [
    "def query_bonds(molecule):\n",
    "    structure_bonds = []\n",
    "    Chem.Kekulize(molecule)\n",
    "    molecule_size = len(molecule.GetAtoms())\n",
    "    hybridization_atoms = []\n",
    "    for x in molecule.GetAtoms():\n",
    "        y = x.GetBonds()\n",
    "        for z in y:\n",
    "            a1 = str(z.GetBeginAtomIdx())\n",
    "            a2 = str(z.GetEndAtomIdx())\n",
    "            hybrd_1 = str(len(molecule.GetAtomWithIdx(int(a1)).GetBonds()))\n",
    "            hybrd_2 = str(len(molecule.GetAtomWithIdx(int(a2)).GetBonds()))\n",
    "            sym_1 = str(molecule.GetAtomWithIdx(int(a1)).GetSymbol())\n",
    "            sym_2 = str(molecule.GetAtomWithIdx(int(a2)).GetSymbol())\n",
    "            fingerprint_bond = sorted([sym_1+hybrd_1,sym_2+hybrd_2])\n",
    "            fingerprint_bond = ''.join(fingerprint_bond)\n",
    "            bond_between = a1+'-'+a2+'#'+sym_1+'-'+hybrd_1+'-'+sym_2+'-'+hybrd_2+'#'+fingerprint_bond\n",
    "            structure_bonds.append(bond_between)\n",
    "    return set(structure_bonds)"
   ]
  },
  {
   "cell_type": "code",
   "execution_count": 50,
   "metadata": {},
   "outputs": [
    {
     "name": "stderr",
     "output_type": "stream",
     "text": [
      "100%|██████████| 56773/56773 [00:45<00:00, 1234.95it/s]\n"
     ]
    }
   ],
   "source": [
    "possible_bonds = []\n",
    "for index in tqdm(range(len(structures))):\n",
    "    molecule = Chem.MolFromSmiles(structures[index])\n",
    "    structure_bonds = []\n",
    "    Chem.Kekulize(molecule)\n",
    "    molecule_size = len(molecule.GetAtoms())\n",
    "    hybridization_atoms = []\n",
    "    for x in molecule.GetAtoms():\n",
    "        y = x.GetBonds()\n",
    "        for z in y:\n",
    "            a1 = str(z.GetBeginAtomIdx())\n",
    "            a2 = str(z.GetEndAtomIdx())\n",
    "            hybrd_1 = str(len(molecule.GetAtomWithIdx(int(a1)).GetBonds()))\n",
    "            hybrd_2 = str(len(molecule.GetAtomWithIdx(int(a2)).GetBonds()))\n",
    "            sym_1 = str(molecule.GetAtomWithIdx(int(a1)).GetSymbol())\n",
    "            sym_2 = str(molecule.GetAtomWithIdx(int(a2)).GetSymbol())\n",
    "            fingerprint_bond = sorted([sym_1+hybrd_1,sym_2+hybrd_2])\n",
    "            fingerprint_bond = ''.join(fingerprint_bond)\n",
    "            bond_between = a1+'-'+a2+'#'+sym_1+'-'+hybrd_1+'-'+sym_2+'-'+hybrd_2+'#'+fingerprint_bond\n",
    "            structure_bonds.append(bond_between)\n",
    "            possible_bonds.append(fingerprint_bond)"
   ]
  },
  {
   "cell_type": "code",
   "execution_count": 92,
   "metadata": {},
   "outputs": [
    {
     "name": "stderr",
     "output_type": "stream",
     "text": [
      "100%|██████████| 56773/56773 [00:29<00:00, 1923.72it/s]\n"
     ]
    }
   ],
   "source": [
    "possible_bonds = []\n",
    "atom_fingerprint = []\n",
    "for index in tqdm(range(max_size)):\n",
    "    molecule = Chem.MolFromSmiles(structures[index])\n",
    "    coordination = np.zeros(len(m.GetAtoms()),dtype=np.int64)\n",
    "    Chem.Kekulize(m)\n",
    "    atoms = molecule.GetAtoms()\n",
    "    num_atoms = len(atoms)\n",
    "    for atom_id in range(num_atoms):\n",
    "        bonds = atoms[atom_id].GetBonds()\n",
    "        coordination[atom_id] = int(len(bonds))  \n",
    "    structure_bonds = []\n",
    "    for atom_id in range(num_atoms):\n",
    "        bonds= atoms[atom_id].GetBonds()\n",
    "        atom_1 = atoms[atom_id]\n",
    "        sym_1 = atoms[atom_id].GetSymbol()\n",
    "        hybrd_1 = coordination[atom_id]\n",
    "        fingerprint_0 = str(sym_1)+str(hybrd_1)\n",
    "        for bond in bonds:\n",
    "            atom_2 = bond.GetOtherAtomIdx(atom_id)\n",
    "            hybrd_2 = coordination[atom_2]\n",
    "            sym_2 = atoms[atom_2].GetSymbol()\n",
    "            atom_fingerprint.append(fingerprint_0)\n",
    "            fingerprint_bond = str(sym_1)+str(hybrd_1)+str(sym_2)+str(hybrd_2)\n",
    "            possible_bonds.append(fingerprint_bond)\n",
    "possible_bonds = set(possible_bonds)\n",
    "atom_fingerprint = set(atom_fingerprint)"
   ]
  },
  {
   "cell_type": "code",
   "execution_count": 93,
   "metadata": {},
   "outputs": [
    {
     "data": {
      "text/plain": [
       "{'C1', 'C2', 'C3', 'C4', 'O1', 'O2'}"
      ]
     },
     "execution_count": 93,
     "metadata": {},
     "output_type": "execute_result"
    }
   ],
   "source": [
    "atom_fingerprint"
   ]
  },
  {
   "cell_type": "code",
   "execution_count": 78,
   "metadata": {},
   "outputs": [],
   "source": [
    "atom_fingerprint = set(atom_fingerprint)"
   ]
  },
  {
   "cell_type": "code",
   "execution_count": 94,
   "metadata": {},
   "outputs": [],
   "source": [
    "motif_desc = list(atom_fingerprint) + list(possible_bonds)\n",
    "motif_dict = dict(zip(motif_desc,range(len(motif_desc))))"
   ]
  },
  {
   "cell_type": "code",
   "execution_count": 100,
   "metadata": {},
   "outputs": [
    {
     "name": "stderr",
     "output_type": "stream",
     "text": [
      "100%|██████████| 56773/56773 [00:31<00:00, 1776.40it/s]\n"
     ]
    }
   ],
   "source": [
    "possible_bonds = []\n",
    "atom_fingerprint = []\n",
    "for index in tqdm(range(max_size)):\n",
    "    molecule = Chem.MolFromSmiles(structures[index])\n",
    "    coordination = np.zeros(len(m.GetAtoms()),dtype=np.int64)\n",
    "    Chem.Kekulize(m)\n",
    "    atoms = molecule.GetAtoms()\n",
    "    num_atoms = len(atoms)\n",
    "    for atom_id in range(num_atoms):\n",
    "        bonds = atoms[atom_id].GetBonds()\n",
    "        coordination[atom_id] = int(len(bonds))  \n",
    "    structure_bonds = []\n",
    "    for atom_id in range(num_atoms):\n",
    "        bonds= atoms[atom_id].GetBonds()\n",
    "        atom_1 = atoms[atom_id]\n",
    "        sym_1 = atoms[atom_id].GetSymbol()\n",
    "        hybrd_1 = coordination[atom_id]\n",
    "        fingerprint_0 = str(sym_1)+str(hybrd_1)\n",
    "        atom_fingerprint.append(fingerprint_0)\n",
    "        for bond in bonds:\n",
    "            atom_2 = bond.GetOtherAtomIdx(atom_id)\n",
    "            hybrd_2 = coordination[atom_2]\n",
    "            sym_2 = atoms[atom_2].GetSymbol()\n",
    "            fingerprint_bond = str(sym_1)+str(hybrd_1)+str(sym_2)+str(hybrd_2)\n",
    "            possible_bonds.append(fingerprint_bond)"
   ]
  },
  {
   "cell_type": "code",
   "execution_count": 102,
   "metadata": {},
   "outputs": [
    {
     "data": {
      "text/plain": [
       "{'C0', 'C1', 'C2', 'C3', 'C4', 'O0', 'O1', 'O2'}"
      ]
     },
     "execution_count": 102,
     "metadata": {},
     "output_type": "execute_result"
    }
   ],
   "source": [
    "possible_bonds = set(possible_bonds)\n",
    "atom_fingerprint = set(atom_fingerprint)\n",
    "atom_fingerprint"
   ]
  },
  {
   "cell_type": "code",
   "execution_count": 103,
   "metadata": {},
   "outputs": [],
   "source": [
    "possible_bonds = set(possible_bonds)\n",
    "atom_fingerprint = set(atom_fingerprint)\n",
    "motif_desc = list(atom_fingerprint) + list(possible_bonds)\n",
    "motif_dict = dict(zip(motif_desc,range(len(motif_desc))))"
   ]
  },
  {
   "cell_type": "code",
   "execution_count": 144,
   "metadata": {},
   "outputs": [
    {
     "name": "stderr",
     "output_type": "stream",
     "text": [
      "100%|██████████| 56773/56773 [00:33<00:00, 1708.05it/s]\n"
     ]
    }
   ],
   "source": [
    "possible_bonds = []\n",
    "atom_fingerprint = []\n",
    "for index in tqdm(range(max_size)):\n",
    "    molecule = Chem.MolFromSmiles(structures[index])\n",
    "    coordination = np.zeros(len(m.GetAtoms()),dtype=np.int64)\n",
    "    Chem.Kekulize(m)\n",
    "    atoms = molecule.GetAtoms()\n",
    "    num_atoms = len(atoms)\n",
    "    for atom_id in range(num_atoms):\n",
    "        bonds = atoms[atom_id].GetBonds()\n",
    "        coordination[atom_id] = int(len(bonds))  \n",
    "    structure_bonds = []\n",
    "    for atom_id in range(num_atoms):\n",
    "        bonds= atoms[atom_id].GetBonds()\n",
    "        atom_1 = atoms[atom_id]\n",
    "        sym_1 = atoms[atom_id].GetSymbol()\n",
    "        hybrd_1 = coordination[atom_id]\n",
    "        fingerprint_0 = str(sym_1)+str(hybrd_1)\n",
    "        representation[index,atom_id,motif_dict[fingerprint_0]]=1\n",
    "        for bond in bonds:\n",
    "            atom_2 = bond.GetOtherAtomIdx(atom_id)\n",
    "            hybrd_2 = coordination[atom_2]\n",
    "            sym_2 = atoms[atom_2].GetSymbol()\n",
    "            atom_fingerprint.append(fingerprint_0)\n",
    "            fingerprint_bond = str(sym_1)+str(hybrd_1)+str(sym_2)+str(hybrd_2)\n",
    "            representation[index,atom_id,motif_dict[fingerprint_bond]]=1"
   ]
  },
  {
   "cell_type": "code",
   "execution_count": 111,
   "metadata": {},
   "outputs": [],
   "source": [
    "representation = np.zeros((max_size,max_atoms,len(motif_dict)))\n",
    "max_length = max_atoms\n",
    "len_encoders = len(motif_dict)"
   ]
  },
  {
   "cell_type": "code",
   "execution_count": 152,
   "metadata": {},
   "outputs": [],
   "source": [
    "train_size = 2000/len(train_data)\n",
    "data_y = train_data['gap']\n",
    "scaler_y = MinMaxScaler()\n",
    "data_y = scaler_y.fit_transform(np.array(train_data['gap']).reshape(-1, 1))\n",
    "train_X, test_X, train_Y, test_Y = train_test_split(representation,data_y,train_size=train_size)"
   ]
  },
  {
   "cell_type": "code",
   "execution_count": 143,
   "metadata": {},
   "outputs": [
    {
     "data": {
      "text/plain": [
       "array([0., 0., 0., 0., 0., 0., 0., 0., 0., 0., 0., 0., 0., 0., 0., 0., 0.,\n",
       "       0., 0., 0., 0., 0., 0., 0., 0., 0., 0., 0., 0., 0., 0., 0., 0., 0.,\n",
       "       0., 0., 0., 0., 0., 0.])"
      ]
     },
     "execution_count": 143,
     "metadata": {},
     "output_type": "execute_result"
    }
   ],
   "source": [
    "sum(representation[10,:,:])"
   ]
  },
  {
   "cell_type": "code",
   "execution_count": 153,
   "metadata": {},
   "outputs": [
    {
     "name": "stdout",
     "output_type": "stream",
     "text": [
      "Train on 2000 samples, validate on 54773 samples\n",
      "Epoch 1/20\n",
      "2000/2000 [==============================] - 16s 8ms/sample - loss: 0.0261 - acc: 0.0000e+00 - val_loss: 0.0123 - val_acc: 1.8257e-05\n",
      "Epoch 2/20\n",
      "2000/2000 [==============================] - 16s 8ms/sample - loss: 0.0119 - acc: 0.0000e+00 - val_loss: 0.0114 - val_acc: 1.8257e-05\n",
      "Epoch 3/20\n",
      "2000/2000 [==============================] - 15s 7ms/sample - loss: 0.0108 - acc: 0.0000e+00 - val_loss: 0.0112 - val_acc: 1.8257e-05\n",
      "Epoch 4/20\n",
      "2000/2000 [==============================] - 14s 7ms/sample - loss: 0.0103 - acc: 0.0000e+00 - val_loss: 0.0105 - val_acc: 0.0000e+00\n",
      "Epoch 5/20\n",
      "2000/2000 [==============================] - 14s 7ms/sample - loss: 0.0096 - acc: 0.0000e+00 - val_loss: 0.0110 - val_acc: 0.0000e+00\n",
      "Epoch 6/20\n",
      "2000/2000 [==============================] - 14s 7ms/sample - loss: 0.0090 - acc: 0.0000e+00 - val_loss: 0.0110 - val_acc: 1.8257e-05\n",
      "Epoch 7/20\n",
      "2000/2000 [==============================] - 16s 8ms/sample - loss: 0.0083 - acc: 0.0000e+00 - val_loss: 0.0107 - val_acc: 0.0000e+00\n",
      "Epoch 8/20\n",
      "2000/2000 [==============================] - 20s 10ms/sample - loss: 0.0080 - acc: 0.0000e+00 - val_loss: 0.0098 - val_acc: 0.0000e+00\n",
      "Epoch 9/20\n",
      "2000/2000 [==============================] - 24s 12ms/sample - loss: 0.0079 - acc: 0.0000e+00 - val_loss: 0.0099 - val_acc: 0.0000e+00\n",
      "Epoch 10/20\n",
      "2000/2000 [==============================] - 17s 8ms/sample - loss: 0.0074 - acc: 0.0000e+00 - val_loss: 0.0120 - val_acc: 0.0000e+00\n",
      "Epoch 11/20\n",
      "2000/2000 [==============================] - 15s 8ms/sample - loss: 0.0073 - acc: 0.0000e+00 - val_loss: 0.0107 - val_acc: 0.0000e+00\n",
      "Epoch 12/20\n",
      "2000/2000 [==============================] - 16s 8ms/sample - loss: 0.0065 - acc: 0.0000e+00 - val_loss: 0.0104 - val_acc: 0.0000e+00\n",
      "Epoch 13/20\n",
      "2000/2000 [==============================] - 18s 9ms/sample - loss: 0.0062 - acc: 0.0000e+00 - val_loss: 0.0106 - val_acc: 0.0000e+00\n",
      "Epoch 14/20\n",
      "2000/2000 [==============================] - 17s 8ms/sample - loss: 0.0059 - acc: 0.0000e+00 - val_loss: 0.0106 - val_acc: 0.0000e+00\n",
      "Epoch 15/20\n",
      "2000/2000 [==============================] - 16s 8ms/sample - loss: 0.0059 - acc: 0.0000e+00 - val_loss: 0.0115 - val_acc: 0.0000e+00\n",
      "Epoch 16/20\n",
      "2000/2000 [==============================] - 17s 9ms/sample - loss: 0.0055 - acc: 0.0000e+00 - val_loss: 0.0108 - val_acc: 0.0000e+00\n",
      "Epoch 17/20\n",
      "2000/2000 [==============================] - 16s 8ms/sample - loss: 0.0054 - acc: 0.0000e+00 - val_loss: 0.0111 - val_acc: 0.0000e+00\n",
      "Epoch 18/20\n",
      "2000/2000 [==============================] - 18s 9ms/sample - loss: 0.0051 - acc: 0.0000e+00 - val_loss: 0.0113 - val_acc: 0.0000e+00\n",
      "Epoch 19/20\n",
      "2000/2000 [==============================] - 14s 7ms/sample - loss: 0.0050 - acc: 0.0000e+00 - val_loss: 0.0121 - val_acc: 1.8257e-05\n",
      "Epoch 20/20\n",
      "2000/2000 [==============================] - 14s 7ms/sample - loss: 0.0053 - acc: 0.0000e+00 - val_loss: 0.0115 - val_acc: 1.8257e-05\n"
     ]
    }
   ],
   "source": [
    "model = models.Sequential()\n",
    "model.add(layers.Conv2D(max_length, (3, 3), activation='relu', input_shape=(max_length,len_encoders,1)))\n",
    "model.add(layers.MaxPooling2D((3, 3)))\n",
    "model.add(layers.Conv2D(64, (3, 3), activation='relu'))\n",
    "model.add(layers.MaxPooling2D((3, 3)))\n",
    "model.add(layers.Conv2D(64, (2, 2), activation='relu'))\n",
    "model.add(layers.Flatten())\n",
    "model.add(layers.Dense(128,activation='relu'))\n",
    "# model.add(Dropout(0.2))\n",
    "model.add(layers.Dense(32,activation='relu'))\n",
    "# model.add(Dropout(0.2))\n",
    "model.add(layers.Dense(1,activation='linear'))\n",
    "model.compile(\n",
    "  optimizer='adam',\n",
    "  loss='mean_squared_error',\n",
    "  metrics=['accuracy'],\n",
    ")\n",
    "train_X = train_X.reshape(-1,max_length,len_encoders,1)\n",
    "test_X = test_X.reshape(-1,max_length,len_encoders,1)\n",
    "history = model.fit(\n",
    "  train_X,\n",
    "  train_Y,\n",
    "  epochs=20,\n",
    "  validation_data = (test_X,test_Y)\n",
    ")"
   ]
  },
  {
   "cell_type": "code",
   "execution_count": 122,
   "metadata": {},
   "outputs": [
    {
     "name": "stdout",
     "output_type": "stream",
     "text": [
      "Model: \"sequential_7\"\n",
      "_________________________________________________________________\n",
      "Layer (type)                 Output Shape              Param #   \n",
      "=================================================================\n",
      "conv2d_15 (Conv2D)           (None, 27, 38, 29)        290       \n",
      "_________________________________________________________________\n",
      "max_pooling2d_10 (MaxPooling (None, 9, 12, 29)         0         \n",
      "_________________________________________________________________\n",
      "conv2d_16 (Conv2D)           (None, 7, 10, 64)         16768     \n",
      "_________________________________________________________________\n",
      "max_pooling2d_11 (MaxPooling (None, 2, 3, 64)          0         \n",
      "_________________________________________________________________\n",
      "conv2d_17 (Conv2D)           (None, 1, 2, 64)          16448     \n",
      "_________________________________________________________________\n",
      "flatten_4 (Flatten)          (None, 128)               0         \n",
      "_________________________________________________________________\n",
      "dense_12 (Dense)             (None, 256)               33024     \n",
      "_________________________________________________________________\n",
      "dense_13 (Dense)             (None, 128)               32896     \n",
      "_________________________________________________________________\n",
      "dense_14 (Dense)             (None, 1)                 129       \n",
      "=================================================================\n",
      "Total params: 99,555\n",
      "Trainable params: 99,555\n",
      "Non-trainable params: 0\n",
      "_________________________________________________________________\n"
     ]
    }
   ],
   "source": [
    "model.summary()"
   ]
  },
  {
   "cell_type": "code",
   "execution_count": 123,
   "metadata": {},
   "outputs": [
    {
     "name": "stdout",
     "output_type": "stream",
     "text": [
      "Train on 2000 samples, validate on 54773 samples\n",
      "Epoch 1/20\n",
      "2000/2000 [==============================] - 18s 9ms/sample - loss: 0.3988 - acc: 0.0000e+00 - val_loss: 0.3603 - val_acc: 1.8257e-05\n",
      "Epoch 2/20\n",
      "2000/2000 [==============================] - 17s 8ms/sample - loss: 0.3267 - acc: 0.0000e+00 - val_loss: 0.2937 - val_acc: 1.8257e-05\n",
      "Epoch 3/20\n",
      "2000/2000 [==============================] - 17s 8ms/sample - loss: 0.2653 - acc: 0.0000e+00 - val_loss: 0.2373 - val_acc: 1.8257e-05\n",
      "Epoch 4/20\n",
      "2000/2000 [==============================] - 17s 9ms/sample - loss: 0.2134 - acc: 0.0000e+00 - val_loss: 0.1899 - val_acc: 1.8257e-05\n",
      "Epoch 5/20\n",
      "2000/2000 [==============================] - 17s 9ms/sample - loss: 0.1700 - acc: 0.0000e+00 - val_loss: 0.1506 - val_acc: 1.8257e-05\n",
      "Epoch 6/20\n",
      "2000/2000 [==============================] - 18s 9ms/sample - loss: 0.1342 - acc: 0.0000e+00 - val_loss: 0.1183 - val_acc: 1.8257e-05\n",
      "Epoch 7/20\n",
      "2000/2000 [==============================] - 17s 9ms/sample - loss: 0.1051 - acc: 0.0000e+00 - val_loss: 0.0922 - val_acc: 1.8257e-05\n",
      "Epoch 8/20\n",
      "2000/2000 [==============================] - 18s 9ms/sample - loss: 0.0818 - acc: 0.0000e+00 - val_loss: 0.0714 - val_acc: 1.8257e-05\n",
      "Epoch 9/20\n",
      "2000/2000 [==============================] - 17s 8ms/sample - loss: 0.0633 - acc: 0.0000e+00 - val_loss: 0.0551 - val_acc: 1.8257e-05\n",
      "Epoch 10/20\n",
      "2000/2000 [==============================] - 17s 8ms/sample - loss: 0.0489 - acc: 0.0000e+00 - val_loss: 0.0426 - val_acc: 1.8257e-05\n",
      "Epoch 11/20\n",
      "2000/2000 [==============================] - 18s 9ms/sample - loss: 0.0379 - acc: 0.0000e+00 - val_loss: 0.0331 - val_acc: 1.8257e-05\n",
      "Epoch 12/20\n",
      "2000/2000 [==============================] - 17s 9ms/sample - loss: 0.0296 - acc: 0.0000e+00 - val_loss: 0.0260 - val_acc: 1.8257e-05\n",
      "Epoch 13/20\n",
      "2000/2000 [==============================] - 17s 8ms/sample - loss: 0.0236 - acc: 0.0000e+00 - val_loss: 0.0208 - val_acc: 1.8257e-05\n",
      "Epoch 14/20\n",
      "2000/2000 [==============================] - 17s 8ms/sample - loss: 0.0192 - acc: 0.0000e+00 - val_loss: 0.0171 - val_acc: 1.8257e-05\n",
      "Epoch 15/20\n",
      "2000/2000 [==============================] - 17s 8ms/sample - loss: 0.0161 - acc: 0.0000e+00 - val_loss: 0.0146 - val_acc: 1.8257e-05\n",
      "Epoch 16/20\n",
      "2000/2000 [==============================] - 17s 8ms/sample - loss: 0.0139 - acc: 0.0000e+00 - val_loss: 0.0128 - val_acc: 1.8257e-05\n",
      "Epoch 17/20\n",
      "2000/2000 [==============================] - 17s 9ms/sample - loss: 0.0125 - acc: 0.0000e+00 - val_loss: 0.0116 - val_acc: 1.8257e-05\n",
      "Epoch 18/20\n",
      "2000/2000 [==============================] - 26s 13ms/sample - loss: 0.0115 - acc: 0.0000e+00 - val_loss: 0.0109 - val_acc: 1.8257e-05\n",
      "Epoch 19/20\n",
      "2000/2000 [==============================] - 17s 9ms/sample - loss: 0.0109 - acc: 0.0000e+00 - val_loss: 0.0104 - val_acc: 1.8257e-05\n",
      "Epoch 20/20\n",
      "2000/2000 [==============================] - 17s 9ms/sample - loss: 0.0105 - acc: 0.0000e+00 - val_loss: 0.0100 - val_acc: 1.8257e-05\n"
     ]
    }
   ],
   "source": [
    "model.compile(\n",
    "  optimizer='adam',\n",
    "  loss='mean_squared_error',\n",
    "  metrics=['accuracy'],\n",
    ")\n",
    "train_X = train_X.reshape(-1,max_length,len_encoders,1)\n",
    "test_X = test_X.reshape(-1,max_length,len_encoders,1)\n",
    "history = model.fit(\n",
    "  train_X,\n",
    "  train_Y,\n",
    "  epochs=20,\n",
    "  validation_data = (test_X,test_Y)\n",
    ")"
   ]
  }
 ],
 "metadata": {
  "kernelspec": {
   "display_name": "RDKit",
   "language": "python",
   "name": "rdkit"
  },
  "language_info": {
   "codemirror_mode": {
    "name": "ipython",
    "version": 3
   },
   "file_extension": ".py",
   "mimetype": "text/x-python",
   "name": "python",
   "nbconvert_exporter": "python",
   "pygments_lexer": "ipython3",
   "version": "3.7.10"
  }
 },
 "nbformat": 4,
 "nbformat_minor": 4
}
