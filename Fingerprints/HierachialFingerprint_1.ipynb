{
 "cells": [
  {
   "cell_type": "code",
   "execution_count": 1,
   "metadata": {},
   "outputs": [
    {
     "name": "stderr",
     "output_type": "stream",
     "text": [
      "/home/kamesh-k/anaconda3/envs/rdkit/lib/python3.7/site-packages/tensorflow/python/framework/dtypes.py:516: FutureWarning: Passing (type, 1) or '1type' as a synonym of type is deprecated; in a future version of numpy, it will be understood as (type, (1,)) / '(1,)type'.\n",
      "  _np_qint8 = np.dtype([(\"qint8\", np.int8, 1)])\n",
      "/home/kamesh-k/anaconda3/envs/rdkit/lib/python3.7/site-packages/tensorflow/python/framework/dtypes.py:517: FutureWarning: Passing (type, 1) or '1type' as a synonym of type is deprecated; in a future version of numpy, it will be understood as (type, (1,)) / '(1,)type'.\n",
      "  _np_quint8 = np.dtype([(\"quint8\", np.uint8, 1)])\n",
      "/home/kamesh-k/anaconda3/envs/rdkit/lib/python3.7/site-packages/tensorflow/python/framework/dtypes.py:518: FutureWarning: Passing (type, 1) or '1type' as a synonym of type is deprecated; in a future version of numpy, it will be understood as (type, (1,)) / '(1,)type'.\n",
      "  _np_qint16 = np.dtype([(\"qint16\", np.int16, 1)])\n",
      "/home/kamesh-k/anaconda3/envs/rdkit/lib/python3.7/site-packages/tensorflow/python/framework/dtypes.py:519: FutureWarning: Passing (type, 1) or '1type' as a synonym of type is deprecated; in a future version of numpy, it will be understood as (type, (1,)) / '(1,)type'.\n",
      "  _np_quint16 = np.dtype([(\"quint16\", np.uint16, 1)])\n",
      "/home/kamesh-k/anaconda3/envs/rdkit/lib/python3.7/site-packages/tensorflow/python/framework/dtypes.py:520: FutureWarning: Passing (type, 1) or '1type' as a synonym of type is deprecated; in a future version of numpy, it will be understood as (type, (1,)) / '(1,)type'.\n",
      "  _np_qint32 = np.dtype([(\"qint32\", np.int32, 1)])\n",
      "/home/kamesh-k/anaconda3/envs/rdkit/lib/python3.7/site-packages/tensorflow/python/framework/dtypes.py:525: FutureWarning: Passing (type, 1) or '1type' as a synonym of type is deprecated; in a future version of numpy, it will be understood as (type, (1,)) / '(1,)type'.\n",
      "  np_resource = np.dtype([(\"resource\", np.ubyte, 1)])\n",
      "/home/kamesh-k/anaconda3/envs/rdkit/lib/python3.7/site-packages/tensorboard/compat/tensorflow_stub/dtypes.py:541: FutureWarning: Passing (type, 1) or '1type' as a synonym of type is deprecated; in a future version of numpy, it will be understood as (type, (1,)) / '(1,)type'.\n",
      "  _np_qint8 = np.dtype([(\"qint8\", np.int8, 1)])\n",
      "/home/kamesh-k/anaconda3/envs/rdkit/lib/python3.7/site-packages/tensorboard/compat/tensorflow_stub/dtypes.py:542: FutureWarning: Passing (type, 1) or '1type' as a synonym of type is deprecated; in a future version of numpy, it will be understood as (type, (1,)) / '(1,)type'.\n",
      "  _np_quint8 = np.dtype([(\"quint8\", np.uint8, 1)])\n",
      "/home/kamesh-k/anaconda3/envs/rdkit/lib/python3.7/site-packages/tensorboard/compat/tensorflow_stub/dtypes.py:543: FutureWarning: Passing (type, 1) or '1type' as a synonym of type is deprecated; in a future version of numpy, it will be understood as (type, (1,)) / '(1,)type'.\n",
      "  _np_qint16 = np.dtype([(\"qint16\", np.int16, 1)])\n",
      "/home/kamesh-k/anaconda3/envs/rdkit/lib/python3.7/site-packages/tensorboard/compat/tensorflow_stub/dtypes.py:544: FutureWarning: Passing (type, 1) or '1type' as a synonym of type is deprecated; in a future version of numpy, it will be understood as (type, (1,)) / '(1,)type'.\n",
      "  _np_quint16 = np.dtype([(\"quint16\", np.uint16, 1)])\n",
      "/home/kamesh-k/anaconda3/envs/rdkit/lib/python3.7/site-packages/tensorboard/compat/tensorflow_stub/dtypes.py:545: FutureWarning: Passing (type, 1) or '1type' as a synonym of type is deprecated; in a future version of numpy, it will be understood as (type, (1,)) / '(1,)type'.\n",
      "  _np_qint32 = np.dtype([(\"qint32\", np.int32, 1)])\n",
      "/home/kamesh-k/anaconda3/envs/rdkit/lib/python3.7/site-packages/tensorboard/compat/tensorflow_stub/dtypes.py:550: FutureWarning: Passing (type, 1) or '1type' as a synonym of type is deprecated; in a future version of numpy, it will be understood as (type, (1,)) / '(1,)type'.\n",
      "  np_resource = np.dtype([(\"resource\", np.ubyte, 1)])\n"
     ]
    }
   ],
   "source": [
    "import numpy as np\n",
    "import pandas as pd\n",
    "import os \n",
    "import matplotlib.pyplot as plt\n",
    "import sklearn.metrics as metrics\n",
    "from sklearn.preprocessing import MinMaxScaler, StandardScaler\n",
    "from sklearn.model_selection import train_test_split\n",
    "import tensorflow as tf\n",
    "from tensorflow import keras\n",
    "from tensorflow.keras.models import Sequential\n",
    "from tensorflow.keras.layers import Dense,Dropout\n",
    "from tensorflow.keras.utils import to_categorical\n",
    "import matplotlib.pyplot as plt \n",
    "from rdkit import Chem\n",
    "from sklearn.kernel_ridge import KernelRidge\n",
    "import seaborn as sns\n",
    "base_path = os.getcwd()"
   ]
  },
  {
   "cell_type": "code",
   "execution_count": 2,
   "metadata": {},
   "outputs": [],
   "source": [
    "data_path = base_path[:-12]+'DataSets/' # Depending the folder name the value 12 will vary, can be replaced by a small snippet of code if needed "
   ]
  },
  {
   "cell_type": "code",
   "execution_count": 3,
   "metadata": {},
   "outputs": [],
   "source": [
    "os.chdir(data_path)\n",
    "train_data_1 = pd.read_csv('train_data_1.csv')\n",
    "train_data_2 = pd.read_csv('train_data_2.csv')\n",
    "os.chdir(base_path)"
   ]
  },
  {
   "cell_type": "code",
   "execution_count": 4,
   "metadata": {},
   "outputs": [
    {
     "data": {
      "text/html": [
       "<div>\n",
       "<style scoped>\n",
       "    .dataframe tbody tr th:only-of-type {\n",
       "        vertical-align: middle;\n",
       "    }\n",
       "\n",
       "    .dataframe tbody tr th {\n",
       "        vertical-align: top;\n",
       "    }\n",
       "\n",
       "    .dataframe thead th {\n",
       "        text-align: right;\n",
       "    }\n",
       "</style>\n",
       "<table border=\"1\" class=\"dataframe\">\n",
       "  <thead>\n",
       "    <tr style=\"text-align: right;\">\n",
       "      <th></th>\n",
       "      <th>index</th>\n",
       "      <th>A</th>\n",
       "      <th>B</th>\n",
       "      <th>C</th>\n",
       "      <th>mu</th>\n",
       "      <th>alpha</th>\n",
       "      <th>homo</th>\n",
       "      <th>lumo</th>\n",
       "      <th>gap</th>\n",
       "      <th>r2</th>\n",
       "      <th>zpve</th>\n",
       "      <th>U0</th>\n",
       "      <th>U</th>\n",
       "      <th>H</th>\n",
       "      <th>G</th>\n",
       "      <th>CV</th>\n",
       "    </tr>\n",
       "  </thead>\n",
       "  <tbody>\n",
       "    <tr>\n",
       "      <th>count</th>\n",
       "      <td>133885.000000</td>\n",
       "      <td>133885.000000</td>\n",
       "      <td>133885.000000</td>\n",
       "      <td>133885.000000</td>\n",
       "      <td>133885.000000</td>\n",
       "      <td>133885.000000</td>\n",
       "      <td>133885.000000</td>\n",
       "      <td>133885.000000</td>\n",
       "      <td>133885.000000</td>\n",
       "      <td>133885.000000</td>\n",
       "      <td>133885.000000</td>\n",
       "      <td>133885.000000</td>\n",
       "      <td>133885.000000</td>\n",
       "      <td>133885.000000</td>\n",
       "      <td>133885.000000</td>\n",
       "      <td>133885.000000</td>\n",
       "    </tr>\n",
       "    <tr>\n",
       "      <th>mean</th>\n",
       "      <td>66942.000000</td>\n",
       "      <td>9.814382</td>\n",
       "      <td>1.406097</td>\n",
       "      <td>1.124921</td>\n",
       "      <td>2.706037</td>\n",
       "      <td>75.191296</td>\n",
       "      <td>-0.239977</td>\n",
       "      <td>0.011124</td>\n",
       "      <td>0.251100</td>\n",
       "      <td>1189.527450</td>\n",
       "      <td>0.148524</td>\n",
       "      <td>-411.543985</td>\n",
       "      <td>-411.535513</td>\n",
       "      <td>-411.534569</td>\n",
       "      <td>-411.577397</td>\n",
       "      <td>31.600676</td>\n",
       "    </tr>\n",
       "    <tr>\n",
       "      <th>std</th>\n",
       "      <td>38649.414733</td>\n",
       "      <td>1809.465666</td>\n",
       "      <td>1.583795</td>\n",
       "      <td>1.095618</td>\n",
       "      <td>1.530394</td>\n",
       "      <td>8.187793</td>\n",
       "      <td>0.022131</td>\n",
       "      <td>0.046936</td>\n",
       "      <td>0.047519</td>\n",
       "      <td>279.757172</td>\n",
       "      <td>0.033274</td>\n",
       "      <td>40.060230</td>\n",
       "      <td>40.060012</td>\n",
       "      <td>40.060012</td>\n",
       "      <td>40.060741</td>\n",
       "      <td>4.062471</td>\n",
       "    </tr>\n",
       "    <tr>\n",
       "      <th>min</th>\n",
       "      <td>0.000000</td>\n",
       "      <td>0.000000</td>\n",
       "      <td>0.337120</td>\n",
       "      <td>0.331180</td>\n",
       "      <td>0.000000</td>\n",
       "      <td>6.310000</td>\n",
       "      <td>-0.428600</td>\n",
       "      <td>-0.175000</td>\n",
       "      <td>0.024600</td>\n",
       "      <td>19.000200</td>\n",
       "      <td>0.015951</td>\n",
       "      <td>-714.568061</td>\n",
       "      <td>-714.560153</td>\n",
       "      <td>-714.559209</td>\n",
       "      <td>-714.602138</td>\n",
       "      <td>6.002000</td>\n",
       "    </tr>\n",
       "    <tr>\n",
       "      <th>25%</th>\n",
       "      <td>33471.000000</td>\n",
       "      <td>2.554430</td>\n",
       "      <td>1.091630</td>\n",
       "      <td>0.910480</td>\n",
       "      <td>1.588700</td>\n",
       "      <td>70.380000</td>\n",
       "      <td>-0.252500</td>\n",
       "      <td>-0.023800</td>\n",
       "      <td>0.216300</td>\n",
       "      <td>1018.322600</td>\n",
       "      <td>0.125289</td>\n",
       "      <td>-437.913936</td>\n",
       "      <td>-437.905942</td>\n",
       "      <td>-437.904997</td>\n",
       "      <td>-437.947682</td>\n",
       "      <td>28.942000</td>\n",
       "    </tr>\n",
       "    <tr>\n",
       "      <th>50%</th>\n",
       "      <td>66942.000000</td>\n",
       "      <td>3.090360</td>\n",
       "      <td>1.369940</td>\n",
       "      <td>1.078560</td>\n",
       "      <td>2.500000</td>\n",
       "      <td>75.500000</td>\n",
       "      <td>-0.241000</td>\n",
       "      <td>0.012000</td>\n",
       "      <td>0.249400</td>\n",
       "      <td>1147.585800</td>\n",
       "      <td>0.148329</td>\n",
       "      <td>-417.864758</td>\n",
       "      <td>-417.857351</td>\n",
       "      <td>-417.856407</td>\n",
       "      <td>-417.895731</td>\n",
       "      <td>31.555000</td>\n",
       "    </tr>\n",
       "    <tr>\n",
       "      <th>75%</th>\n",
       "      <td>100413.000000</td>\n",
       "      <td>3.835820</td>\n",
       "      <td>1.653980</td>\n",
       "      <td>1.279540</td>\n",
       "      <td>3.636100</td>\n",
       "      <td>80.520000</td>\n",
       "      <td>-0.228700</td>\n",
       "      <td>0.049200</td>\n",
       "      <td>0.288200</td>\n",
       "      <td>1308.816600</td>\n",
       "      <td>0.171150</td>\n",
       "      <td>-387.049166</td>\n",
       "      <td>-387.039746</td>\n",
       "      <td>-387.038802</td>\n",
       "      <td>-387.083279</td>\n",
       "      <td>34.276000</td>\n",
       "    </tr>\n",
       "    <tr>\n",
       "      <th>max</th>\n",
       "      <td>133884.000000</td>\n",
       "      <td>619867.683140</td>\n",
       "      <td>437.903860</td>\n",
       "      <td>282.945450</td>\n",
       "      <td>29.556400</td>\n",
       "      <td>196.620000</td>\n",
       "      <td>-0.101700</td>\n",
       "      <td>0.193500</td>\n",
       "      <td>0.622100</td>\n",
       "      <td>3374.753200</td>\n",
       "      <td>0.273944</td>\n",
       "      <td>-40.478930</td>\n",
       "      <td>-40.476062</td>\n",
       "      <td>-40.475117</td>\n",
       "      <td>-40.498597</td>\n",
       "      <td>46.969000</td>\n",
       "    </tr>\n",
       "  </tbody>\n",
       "</table>\n",
       "</div>"
      ],
      "text/plain": [
       "               index              A              B              C  \\\n",
       "count  133885.000000  133885.000000  133885.000000  133885.000000   \n",
       "mean    66942.000000       9.814382       1.406097       1.124921   \n",
       "std     38649.414733    1809.465666       1.583795       1.095618   \n",
       "min         0.000000       0.000000       0.337120       0.331180   \n",
       "25%     33471.000000       2.554430       1.091630       0.910480   \n",
       "50%     66942.000000       3.090360       1.369940       1.078560   \n",
       "75%    100413.000000       3.835820       1.653980       1.279540   \n",
       "max    133884.000000  619867.683140     437.903860     282.945450   \n",
       "\n",
       "                  mu          alpha           homo           lumo  \\\n",
       "count  133885.000000  133885.000000  133885.000000  133885.000000   \n",
       "mean        2.706037      75.191296      -0.239977       0.011124   \n",
       "std         1.530394       8.187793       0.022131       0.046936   \n",
       "min         0.000000       6.310000      -0.428600      -0.175000   \n",
       "25%         1.588700      70.380000      -0.252500      -0.023800   \n",
       "50%         2.500000      75.500000      -0.241000       0.012000   \n",
       "75%         3.636100      80.520000      -0.228700       0.049200   \n",
       "max        29.556400     196.620000      -0.101700       0.193500   \n",
       "\n",
       "                 gap             r2           zpve             U0  \\\n",
       "count  133885.000000  133885.000000  133885.000000  133885.000000   \n",
       "mean        0.251100    1189.527450       0.148524    -411.543985   \n",
       "std         0.047519     279.757172       0.033274      40.060230   \n",
       "min         0.024600      19.000200       0.015951    -714.568061   \n",
       "25%         0.216300    1018.322600       0.125289    -437.913936   \n",
       "50%         0.249400    1147.585800       0.148329    -417.864758   \n",
       "75%         0.288200    1308.816600       0.171150    -387.049166   \n",
       "max         0.622100    3374.753200       0.273944     -40.478930   \n",
       "\n",
       "                   U              H              G             CV  \n",
       "count  133885.000000  133885.000000  133885.000000  133885.000000  \n",
       "mean     -411.535513    -411.534569    -411.577397      31.600676  \n",
       "std        40.060012      40.060012      40.060741       4.062471  \n",
       "min      -714.560153    -714.559209    -714.602138       6.002000  \n",
       "25%      -437.905942    -437.904997    -437.947682      28.942000  \n",
       "50%      -417.857351    -417.856407    -417.895731      31.555000  \n",
       "75%      -387.039746    -387.038802    -387.083279      34.276000  \n",
       "max       -40.476062     -40.475117     -40.498597      46.969000  "
      ]
     },
     "execution_count": 4,
     "metadata": {},
     "output_type": "execute_result"
    }
   ],
   "source": [
    "train_data_1.describe()"
   ]
  },
  {
   "cell_type": "code",
   "execution_count": 5,
   "metadata": {},
   "outputs": [
    {
     "data": {
      "text/html": [
       "<div>\n",
       "<style scoped>\n",
       "    .dataframe tbody tr th:only-of-type {\n",
       "        vertical-align: middle;\n",
       "    }\n",
       "\n",
       "    .dataframe tbody tr th {\n",
       "        vertical-align: top;\n",
       "    }\n",
       "\n",
       "    .dataframe thead th {\n",
       "        text-align: right;\n",
       "    }\n",
       "</style>\n",
       "<table border=\"1\" class=\"dataframe\">\n",
       "  <thead>\n",
       "    <tr style=\"text-align: right;\">\n",
       "      <th></th>\n",
       "      <th>index</th>\n",
       "      <th>A</th>\n",
       "      <th>B</th>\n",
       "      <th>C</th>\n",
       "      <th>mu</th>\n",
       "      <th>alpha</th>\n",
       "      <th>homo</th>\n",
       "      <th>lumo</th>\n",
       "      <th>gap</th>\n",
       "      <th>r2</th>\n",
       "      <th>zpve</th>\n",
       "      <th>U0</th>\n",
       "      <th>U</th>\n",
       "      <th>H</th>\n",
       "      <th>G</th>\n",
       "      <th>CV</th>\n",
       "    </tr>\n",
       "  </thead>\n",
       "  <tbody>\n",
       "    <tr>\n",
       "      <th>count</th>\n",
       "      <td>6095.000000</td>\n",
       "      <td>6095.000000</td>\n",
       "      <td>6095.000000</td>\n",
       "      <td>6095.000000</td>\n",
       "      <td>6095.000000</td>\n",
       "      <td>6095.000000</td>\n",
       "      <td>6095.000000</td>\n",
       "      <td>6095.000000</td>\n",
       "      <td>6095.000000</td>\n",
       "      <td>6095.000000</td>\n",
       "      <td>6095.000000</td>\n",
       "      <td>6095.000000</td>\n",
       "      <td>6095.000000</td>\n",
       "      <td>6095.000000</td>\n",
       "      <td>6095.000000</td>\n",
       "      <td>6095.000000</td>\n",
       "    </tr>\n",
       "    <tr>\n",
       "      <th>mean</th>\n",
       "      <td>3047.000000</td>\n",
       "      <td>2.987290</td>\n",
       "      <td>1.399757</td>\n",
       "      <td>1.143595</td>\n",
       "      <td>2.245983</td>\n",
       "      <td>76.237482</td>\n",
       "      <td>-0.240667</td>\n",
       "      <td>0.021889</td>\n",
       "      <td>0.262556</td>\n",
       "      <td>1185.303637</td>\n",
       "      <td>0.156478</td>\n",
       "      <td>-422.537512</td>\n",
       "      <td>-422.528937</td>\n",
       "      <td>-422.527993</td>\n",
       "      <td>-422.570907</td>\n",
       "      <td>32.311137</td>\n",
       "    </tr>\n",
       "    <tr>\n",
       "      <th>std</th>\n",
       "      <td>1759.619277</td>\n",
       "      <td>0.824335</td>\n",
       "      <td>0.354020</td>\n",
       "      <td>0.267686</td>\n",
       "      <td>0.960131</td>\n",
       "      <td>2.316760</td>\n",
       "      <td>0.011724</td>\n",
       "      <td>0.044412</td>\n",
       "      <td>0.043320</td>\n",
       "      <td>239.448572</td>\n",
       "      <td>0.001966</td>\n",
       "      <td>0.034052</td>\n",
       "      <td>0.034099</td>\n",
       "      <td>0.034099</td>\n",
       "      <td>0.034095</td>\n",
       "      <td>2.395529</td>\n",
       "    </tr>\n",
       "    <tr>\n",
       "      <th>min</th>\n",
       "      <td>0.000000</td>\n",
       "      <td>1.463538</td>\n",
       "      <td>0.381853</td>\n",
       "      <td>0.379867</td>\n",
       "      <td>0.003800</td>\n",
       "      <td>71.450000</td>\n",
       "      <td>-0.279730</td>\n",
       "      <td>-0.096370</td>\n",
       "      <td>0.141390</td>\n",
       "      <td>828.180000</td>\n",
       "      <td>0.150991</td>\n",
       "      <td>-422.629584</td>\n",
       "      <td>-422.622605</td>\n",
       "      <td>-422.621660</td>\n",
       "      <td>-422.662154</td>\n",
       "      <td>25.710000</td>\n",
       "    </tr>\n",
       "    <tr>\n",
       "      <th>25%</th>\n",
       "      <td>1523.500000</td>\n",
       "      <td>2.460825</td>\n",
       "      <td>1.164438</td>\n",
       "      <td>0.967887</td>\n",
       "      <td>1.586550</td>\n",
       "      <td>74.570000</td>\n",
       "      <td>-0.247750</td>\n",
       "      <td>-0.019795</td>\n",
       "      <td>0.222270</td>\n",
       "      <td>1035.972300</td>\n",
       "      <td>0.155181</td>\n",
       "      <td>-422.562300</td>\n",
       "      <td>-422.553945</td>\n",
       "      <td>-422.552999</td>\n",
       "      <td>-422.595230</td>\n",
       "      <td>30.728500</td>\n",
       "    </tr>\n",
       "    <tr>\n",
       "      <th>50%</th>\n",
       "      <td>3047.000000</td>\n",
       "      <td>2.803668</td>\n",
       "      <td>1.420784</td>\n",
       "      <td>1.144443</td>\n",
       "      <td>2.208600</td>\n",
       "      <td>75.800000</td>\n",
       "      <td>-0.240960</td>\n",
       "      <td>0.015140</td>\n",
       "      <td>0.263070</td>\n",
       "      <td>1128.956300</td>\n",
       "      <td>0.156448</td>\n",
       "      <td>-422.537107</td>\n",
       "      <td>-422.528357</td>\n",
       "      <td>-422.527412</td>\n",
       "      <td>-422.570710</td>\n",
       "      <td>32.207000</td>\n",
       "    </tr>\n",
       "    <tr>\n",
       "      <th>75%</th>\n",
       "      <td>4570.500000</td>\n",
       "      <td>3.297857</td>\n",
       "      <td>1.654440</td>\n",
       "      <td>1.311691</td>\n",
       "      <td>2.839700</td>\n",
       "      <td>77.490000</td>\n",
       "      <td>-0.233880</td>\n",
       "      <td>0.067820</td>\n",
       "      <td>0.303380</td>\n",
       "      <td>1260.306600</td>\n",
       "      <td>0.157811</td>\n",
       "      <td>-422.513107</td>\n",
       "      <td>-422.504387</td>\n",
       "      <td>-422.503443</td>\n",
       "      <td>-422.546365</td>\n",
       "      <td>33.637000</td>\n",
       "    </tr>\n",
       "    <tr>\n",
       "      <th>max</th>\n",
       "      <td>6094.000000</td>\n",
       "      <td>11.539460</td>\n",
       "      <td>2.341566</td>\n",
       "      <td>2.087373</td>\n",
       "      <td>5.556000</td>\n",
       "      <td>86.240000</td>\n",
       "      <td>-0.181390</td>\n",
       "      <td>0.103950</td>\n",
       "      <td>0.354120</td>\n",
       "      <td>2751.248700</td>\n",
       "      <td>0.162739</td>\n",
       "      <td>-422.388768</td>\n",
       "      <td>-422.380484</td>\n",
       "      <td>-422.379540</td>\n",
       "      <td>-422.420789</td>\n",
       "      <td>39.471000</td>\n",
       "    </tr>\n",
       "  </tbody>\n",
       "</table>\n",
       "</div>"
      ],
      "text/plain": [
       "             index            A            B            C           mu  \\\n",
       "count  6095.000000  6095.000000  6095.000000  6095.000000  6095.000000   \n",
       "mean   3047.000000     2.987290     1.399757     1.143595     2.245983   \n",
       "std    1759.619277     0.824335     0.354020     0.267686     0.960131   \n",
       "min       0.000000     1.463538     0.381853     0.379867     0.003800   \n",
       "25%    1523.500000     2.460825     1.164438     0.967887     1.586550   \n",
       "50%    3047.000000     2.803668     1.420784     1.144443     2.208600   \n",
       "75%    4570.500000     3.297857     1.654440     1.311691     2.839700   \n",
       "max    6094.000000    11.539460     2.341566     2.087373     5.556000   \n",
       "\n",
       "             alpha         homo         lumo          gap           r2  \\\n",
       "count  6095.000000  6095.000000  6095.000000  6095.000000  6095.000000   \n",
       "mean     76.237482    -0.240667     0.021889     0.262556  1185.303637   \n",
       "std       2.316760     0.011724     0.044412     0.043320   239.448572   \n",
       "min      71.450000    -0.279730    -0.096370     0.141390   828.180000   \n",
       "25%      74.570000    -0.247750    -0.019795     0.222270  1035.972300   \n",
       "50%      75.800000    -0.240960     0.015140     0.263070  1128.956300   \n",
       "75%      77.490000    -0.233880     0.067820     0.303380  1260.306600   \n",
       "max      86.240000    -0.181390     0.103950     0.354120  2751.248700   \n",
       "\n",
       "              zpve           U0            U            H            G  \\\n",
       "count  6095.000000  6095.000000  6095.000000  6095.000000  6095.000000   \n",
       "mean      0.156478  -422.537512  -422.528937  -422.527993  -422.570907   \n",
       "std       0.001966     0.034052     0.034099     0.034099     0.034095   \n",
       "min       0.150991  -422.629584  -422.622605  -422.621660  -422.662154   \n",
       "25%       0.155181  -422.562300  -422.553945  -422.552999  -422.595230   \n",
       "50%       0.156448  -422.537107  -422.528357  -422.527412  -422.570710   \n",
       "75%       0.157811  -422.513107  -422.504387  -422.503443  -422.546365   \n",
       "max       0.162739  -422.388768  -422.380484  -422.379540  -422.420789   \n",
       "\n",
       "                CV  \n",
       "count  6095.000000  \n",
       "mean     32.311137  \n",
       "std       2.395529  \n",
       "min      25.710000  \n",
       "25%      30.728500  \n",
       "50%      32.207000  \n",
       "75%      33.637000  \n",
       "max      39.471000  "
      ]
     },
     "execution_count": 5,
     "metadata": {},
     "output_type": "execute_result"
    }
   ],
   "source": [
    "train_data_2.describe()"
   ]
  },
  {
   "cell_type": "code",
   "execution_count": 6,
   "metadata": {},
   "outputs": [],
   "source": [
    "data = pd.concat([train_data_1,train_data_2],ignore_index=True)\n",
    "data = data.drop(columns='index')"
   ]
  },
  {
   "cell_type": "code",
   "execution_count": 7,
   "metadata": {},
   "outputs": [
    {
     "data": {
      "text/html": [
       "<div>\n",
       "<style scoped>\n",
       "    .dataframe tbody tr th:only-of-type {\n",
       "        vertical-align: middle;\n",
       "    }\n",
       "\n",
       "    .dataframe tbody tr th {\n",
       "        vertical-align: top;\n",
       "    }\n",
       "\n",
       "    .dataframe thead th {\n",
       "        text-align: right;\n",
       "    }\n",
       "</style>\n",
       "<table border=\"1\" class=\"dataframe\">\n",
       "  <thead>\n",
       "    <tr style=\"text-align: right;\">\n",
       "      <th></th>\n",
       "      <th>A</th>\n",
       "      <th>B</th>\n",
       "      <th>C</th>\n",
       "      <th>mu</th>\n",
       "      <th>alpha</th>\n",
       "      <th>homo</th>\n",
       "      <th>lumo</th>\n",
       "      <th>gap</th>\n",
       "      <th>r2</th>\n",
       "      <th>zpve</th>\n",
       "      <th>U0</th>\n",
       "      <th>U</th>\n",
       "      <th>H</th>\n",
       "      <th>G</th>\n",
       "      <th>CV</th>\n",
       "      <th>Structure</th>\n",
       "    </tr>\n",
       "  </thead>\n",
       "  <tbody>\n",
       "    <tr>\n",
       "      <th>0</th>\n",
       "      <td>157.71180</td>\n",
       "      <td>157.709970</td>\n",
       "      <td>157.706990</td>\n",
       "      <td>0.0000</td>\n",
       "      <td>13.21</td>\n",
       "      <td>-0.3877</td>\n",
       "      <td>0.1171</td>\n",
       "      <td>0.5048</td>\n",
       "      <td>35.3641</td>\n",
       "      <td>0.044749</td>\n",
       "      <td>-40.478930</td>\n",
       "      <td>-40.476062</td>\n",
       "      <td>-40.475117</td>\n",
       "      <td>-40.498597</td>\n",
       "      <td>6.469</td>\n",
       "      <td>C</td>\n",
       "    </tr>\n",
       "    <tr>\n",
       "      <th>1</th>\n",
       "      <td>293.60975</td>\n",
       "      <td>293.541110</td>\n",
       "      <td>191.393970</td>\n",
       "      <td>1.6256</td>\n",
       "      <td>9.46</td>\n",
       "      <td>-0.2570</td>\n",
       "      <td>0.0829</td>\n",
       "      <td>0.3399</td>\n",
       "      <td>26.1563</td>\n",
       "      <td>0.034358</td>\n",
       "      <td>-56.525887</td>\n",
       "      <td>-56.523026</td>\n",
       "      <td>-56.522082</td>\n",
       "      <td>-56.544961</td>\n",
       "      <td>6.316</td>\n",
       "      <td>N</td>\n",
       "    </tr>\n",
       "    <tr>\n",
       "      <th>2</th>\n",
       "      <td>799.58812</td>\n",
       "      <td>437.903860</td>\n",
       "      <td>282.945450</td>\n",
       "      <td>1.8511</td>\n",
       "      <td>6.31</td>\n",
       "      <td>-0.2928</td>\n",
       "      <td>0.0687</td>\n",
       "      <td>0.3615</td>\n",
       "      <td>19.0002</td>\n",
       "      <td>0.021375</td>\n",
       "      <td>-76.404702</td>\n",
       "      <td>-76.401867</td>\n",
       "      <td>-76.400922</td>\n",
       "      <td>-76.422349</td>\n",
       "      <td>6.002</td>\n",
       "      <td>O</td>\n",
       "    </tr>\n",
       "    <tr>\n",
       "      <th>3</th>\n",
       "      <td>0.00000</td>\n",
       "      <td>35.610036</td>\n",
       "      <td>35.610036</td>\n",
       "      <td>0.0000</td>\n",
       "      <td>16.28</td>\n",
       "      <td>-0.2845</td>\n",
       "      <td>0.0506</td>\n",
       "      <td>0.3351</td>\n",
       "      <td>59.5248</td>\n",
       "      <td>0.026841</td>\n",
       "      <td>-77.308427</td>\n",
       "      <td>-77.305527</td>\n",
       "      <td>-77.304583</td>\n",
       "      <td>-77.327429</td>\n",
       "      <td>8.574</td>\n",
       "      <td>C#C</td>\n",
       "    </tr>\n",
       "    <tr>\n",
       "      <th>4</th>\n",
       "      <td>0.00000</td>\n",
       "      <td>44.593883</td>\n",
       "      <td>44.593883</td>\n",
       "      <td>2.8937</td>\n",
       "      <td>12.99</td>\n",
       "      <td>-0.3604</td>\n",
       "      <td>0.0191</td>\n",
       "      <td>0.3796</td>\n",
       "      <td>48.7476</td>\n",
       "      <td>0.016601</td>\n",
       "      <td>-93.411888</td>\n",
       "      <td>-93.409370</td>\n",
       "      <td>-93.408425</td>\n",
       "      <td>-93.431246</td>\n",
       "      <td>6.278</td>\n",
       "      <td>C#N</td>\n",
       "    </tr>\n",
       "  </tbody>\n",
       "</table>\n",
       "</div>"
      ],
      "text/plain": [
       "           A           B           C      mu  alpha    homo    lumo     gap  \\\n",
       "0  157.71180  157.709970  157.706990  0.0000  13.21 -0.3877  0.1171  0.5048   \n",
       "1  293.60975  293.541110  191.393970  1.6256   9.46 -0.2570  0.0829  0.3399   \n",
       "2  799.58812  437.903860  282.945450  1.8511   6.31 -0.2928  0.0687  0.3615   \n",
       "3    0.00000   35.610036   35.610036  0.0000  16.28 -0.2845  0.0506  0.3351   \n",
       "4    0.00000   44.593883   44.593883  2.8937  12.99 -0.3604  0.0191  0.3796   \n",
       "\n",
       "        r2      zpve         U0          U          H          G     CV  \\\n",
       "0  35.3641  0.044749 -40.478930 -40.476062 -40.475117 -40.498597  6.469   \n",
       "1  26.1563  0.034358 -56.525887 -56.523026 -56.522082 -56.544961  6.316   \n",
       "2  19.0002  0.021375 -76.404702 -76.401867 -76.400922 -76.422349  6.002   \n",
       "3  59.5248  0.026841 -77.308427 -77.305527 -77.304583 -77.327429  8.574   \n",
       "4  48.7476  0.016601 -93.411888 -93.409370 -93.408425 -93.431246  6.278   \n",
       "\n",
       "  Structure  \n",
       "0         C  \n",
       "1         N  \n",
       "2         O  \n",
       "3       C#C  \n",
       "4       C#N  "
      ]
     },
     "execution_count": 7,
     "metadata": {},
     "output_type": "execute_result"
    }
   ],
   "source": [
    "data.head()"
   ]
  },
  {
   "cell_type": "code",
   "execution_count": 8,
   "metadata": {},
   "outputs": [
    {
     "data": {
      "text/plain": [
       "'C'"
      ]
     },
     "execution_count": 8,
     "metadata": {},
     "output_type": "execute_result"
    }
   ],
   "source": [
    "data['Structure'][0]"
   ]
  },
  {
   "cell_type": "code",
   "execution_count": 102,
   "metadata": {},
   "outputs": [
    {
     "data": {
      "text/plain": [
       "['-',\n",
       " 'C',\n",
       " '=',\n",
       " '(',\n",
       " ')',\n",
       " '2',\n",
       " 'F',\n",
       " '4',\n",
       " 'N',\n",
       " '1',\n",
       " 'O',\n",
       " '3',\n",
       " '5',\n",
       " '#',\n",
       " 'H',\n",
       " '[',\n",
       " ']',\n",
       " '+']"
      ]
     },
     "execution_count": 102,
     "metadata": {},
     "output_type": "execute_result"
    }
   ],
   "source": [
    "superset = ''.join(data['Structure'])\n",
    "encoders = list(set(superset))\n",
    "encoders"
   ]
  },
  {
   "cell_type": "code",
   "execution_count": 9,
   "metadata": {},
   "outputs": [],
   "source": [
    "mask_data = np.zeros(len(data))\n",
    "for i in range(len(data)):\n",
    "    structure = data['Structure'][i]\n",
    "    if 'N' in structure or 'F' in structure:\n",
    "        continue\n",
    "    else:        \n",
    "        mask_data[i] = 1"
   ]
  },
  {
   "cell_type": "code",
   "execution_count": 10,
   "metadata": {},
   "outputs": [
    {
     "name": "stdout",
     "output_type": "stream",
     "text": [
      "41.0% of the data is considered for the model training\n"
     ]
    }
   ],
   "source": [
    "print(\"{}% of the data is considered for the model training\".format(round((mask_data.sum()/len(data)*100))))"
   ]
  },
  {
   "cell_type": "code",
   "execution_count": 13,
   "metadata": {},
   "outputs": [],
   "source": [
    "train_data = pd.DataFrame(data[mask_data==1])\n",
    "train_data.head()\n",
    "train_data.to_csv(\"Train_Data.csv\",index=False)"
   ]
  },
  {
   "cell_type": "markdown",
   "metadata": {},
   "source": [
    "## Zeroth order Fingerprint "
   ]
  },
  {
   "cell_type": "code",
   "execution_count": 14,
   "metadata": {},
   "outputs": [],
   "source": [
    "max_size = len(train_data)\n",
    "fingerprint_0 = np.zeros((max_size,3))\n",
    "structures = np.array(train_data['Structure'])\n",
    "for index in range(max_size):\n",
    "    m = Chem.MolFromSmiles(structures[index])\n",
    "    n = m.GetNumAtoms(onlyExplicit=False)\n",
    "    carbon = 0\n",
    "    oxygen = 0 \n",
    "    hydrogen = 0 \n",
    "    for x in m.GetAtoms():\n",
    "            if x.GetAtomicNum() == 6:\n",
    "                carbon = carbon + 1 \n",
    "            elif x.GetAtomicNum() == 8:\n",
    "                oxygen = oxygen + 1 \n",
    "    hydrogen = m.GetNumAtoms(onlyExplicit=False) - carbon - oxygen \n",
    "    fingerprint_0[index,0] = float(carbon/n)\n",
    "    fingerprint_0[index,1] = float(oxygen/n)\n",
    "    fingerprint_0[index,2] = float(hydrogen/n)"
   ]
  },
  {
   "cell_type": "code",
   "execution_count": 15,
   "metadata": {},
   "outputs": [
    {
     "data": {
      "text/plain": [
       "array([[0.2       , 0.        , 0.8       ],\n",
       "       [0.        , 0.33333333, 0.66666667],\n",
       "       [0.5       , 0.        , 0.5       ],\n",
       "       ...,\n",
       "       [0.36842105, 0.10526316, 0.52631579],\n",
       "       [0.36842105, 0.10526316, 0.52631579],\n",
       "       [0.36842105, 0.10526316, 0.52631579]])"
      ]
     },
     "execution_count": 15,
     "metadata": {},
     "output_type": "execute_result"
    }
   ],
   "source": [
    "fingerprint_0"
   ]
  },
  {
   "cell_type": "markdown",
   "metadata": {},
   "source": [
    "## First Order Fingerprint "
   ]
  },
  {
   "cell_type": "code",
   "execution_count": 16,
   "metadata": {},
   "outputs": [],
   "source": [
    "max_size = len(train_data)\n",
    "fingerprint_1 = np.zeros((max_size,6))\n",
    "structures = np.array(train_data['Structure'])"
   ]
  },
  {
   "cell_type": "code",
   "execution_count": 17,
   "metadata": {},
   "outputs": [],
   "source": [
    "possible_athyd = []\n",
    "for i in range(max_size):\n",
    "    m = Chem.MolFromSmiles(structures[i])\n",
    "    n = m.GetNumAtoms(onlyExplicit=False)\n",
    "    for x in m.GetAtoms():\n",
    "        atom = x.GetSymbol()\n",
    "        hybr = str(x.GetHybridization())\n",
    "        possible_athyd.append(atom+hybr)"
   ]
  },
  {
   "cell_type": "code",
   "execution_count": 18,
   "metadata": {},
   "outputs": [],
   "source": [
    "hybridization_dict = dict(zip(list(set(possible_athyd)),range(5)))\n",
    "for index in range(max_size):\n",
    "    m = Chem.MolFromSmiles(structures[index])\n",
    "    n = m.GetNumAtoms(onlyExplicit=False)\n",
    "    for x in m.GetAtoms():\n",
    "        atom = x.GetSymbol()\n",
    "        hybr = str(x.GetHybridization())\n",
    "        atom_hybr = atom+hybr\n",
    "        coordination = hybridization_dict[atom_hybr]\n",
    "        fingerprint_1[index,coordination] = fingerprint_1[index,coordination] + 1\n",
    "    hydrogens = fingerprint_1[index,0] + fingerprint_1[index,1] +  fingerprint_1[index,2] +  fingerprint_1[index,3] +  fingerprint_1[index,4]\n",
    "    hydrogens = n - hydrogens \n",
    "    fingerprint_1[index,5] = hydrogens\n",
    "    fingerprint_1[index,:] = fingerprint_1[index,:]/n"
   ]
  },
  {
   "cell_type": "code",
   "execution_count": 19,
   "metadata": {},
   "outputs": [
    {
     "data": {
      "text/plain": [
       "array([[0.        , 0.        , 0.        , 0.2       , 0.        ,\n",
       "        0.8       ],\n",
       "       [0.        , 0.33333333, 0.        , 0.        , 0.        ,\n",
       "        0.66666667],\n",
       "       [0.        , 0.        , 0.5       , 0.        , 0.        ,\n",
       "        0.5       ],\n",
       "       ...,\n",
       "       [0.05263158, 0.05263158, 0.10526316, 0.21052632, 0.05263158,\n",
       "        0.52631579],\n",
       "       [0.05263158, 0.05263158, 0.10526316, 0.21052632, 0.05263158,\n",
       "        0.52631579],\n",
       "       [0.05263158, 0.05263158, 0.10526316, 0.21052632, 0.05263158,\n",
       "        0.52631579]])"
      ]
     },
     "execution_count": 19,
     "metadata": {},
     "output_type": "execute_result"
    }
   ],
   "source": [
    "fingerprint_1"
   ]
  },
  {
   "cell_type": "markdown",
   "metadata": {},
   "source": [
    "## Second Order Fingerprint "
   ]
  },
  {
   "cell_type": "code",
   "execution_count": 53,
   "metadata": {},
   "outputs": [
    {
     "data": {
      "image/png": "[encoded data removed]",
      "text/plain": [
       "<rdkit.Chem.rdchem.Mol at 0x7f727ae19440>"
      ]
     },
     "execution_count": 53,
     "metadata": {},
     "output_type": "execute_result"
    }
   ],
   "source": [
    "m = Chem.AddHs(Chem.MolFromSmiles(structures[6]))\n",
    "m"
   ]
  },
  {
   "cell_type": "code",
   "execution_count": 97,
   "metadata": {},
   "outputs": [],
   "source": [
    "def query_bonds(molecule):\n",
    "    structure_bonds = []\n",
    "    Chem.Kekulize(molecule)\n",
    "    molecule_size = len(molecule.GetAtoms())\n",
    "    hybridization_atoms = []\n",
    "    for x,j in zip(molecule.GetAtoms(),range(molecule_size)):\n",
    "        hybrid = x.GetHybridization()\n",
    "        if str(hybrid) == 'UNSPECIFIED':\n",
    "            hybrid = 'S'\n",
    "        hybridization_atoms.append(hybrid)\n",
    "    for x in molecule.GetAtoms():\n",
    "        y = x.GetBonds()\n",
    "        for z in y:\n",
    "            a1 = str(z.GetBeginAtomIdx())\n",
    "            a2 = str(z.GetEndAtomIdx())\n",
    "            hybrd_1 = str(hybridization_atoms[int(a1)])\n",
    "            hybrd_2 = str(hybridization_atoms[int(a2)])\n",
    "            sym_1 = str(molecule.GetAtomWithIdx(int(a1)).GetSymbol())\n",
    "            sym_2 = str(molecule.GetAtomWithIdx(int(a2)).GetSymbol())\n",
    "            fingerprint_bond = sorted(sym_1+sym_2+hybrd_1+hybrd_2)\n",
    "            fingerprint_bond = ''.join(fingerprint_bond)\n",
    "            bond_between = a1+'-'+a2+'#'+sym_1+'-'+hybrd_1+'-'+sym_2+'-'+hybrd_2+'#'+fingerprint_bond\n",
    "            structure_bonds.append(bond_between)\n",
    "    return list(set(structure_bonds))"
   ]
  },
  {
   "cell_type": "code",
   "execution_count": 87,
   "metadata": {},
   "outputs": [
    {
     "name": "stdout",
     "output_type": "stream",
     "text": [
      "[rdkit.Chem.rdchem.HybridizationType.SP3, rdkit.Chem.rdchem.HybridizationType.SP, rdkit.Chem.rdchem.HybridizationType.SP, 'S', 'S', 'S', 'S']\n",
      "A1 = 0, A2 = 1 \n",
      "3CCPPSS\n",
      "A1 = 0, A2 = 3 \n",
      "3CHPSS\n",
      "A1 = 0, A2 = 4 \n",
      "3CHPSS\n",
      "A1 = 0, A2 = 5 \n",
      "3CHPSS\n",
      "A1 = 0, A2 = 1 \n",
      "3CCPPSS\n",
      "A1 = 1, A2 = 2 \n",
      "CCPPSS\n",
      "A1 = 1, A2 = 2 \n",
      "CCPPSS\n",
      "A1 = 2, A2 = 6 \n",
      "CHPSS\n",
      "A1 = 0, A2 = 3 \n",
      "3CHPSS\n",
      "A1 = 0, A2 = 4 \n",
      "3CHPSS\n",
      "A1 = 0, A2 = 5 \n",
      "3CHPSS\n",
      "A1 = 2, A2 = 6 \n",
      "CHPSS\n"
     ]
    },
    {
     "data": {
      "text/plain": [
       "['0-5#C-SP3-H-S#3CHPSS',\n",
       " '0-3#C-SP3-H-S#3CHPSS',\n",
       " '1-2#C-SP-C-SP#CCPPSS',\n",
       " '0-1#C-SP3-C-SP#3CCPPSS',\n",
       " '0-4#C-SP3-H-S#3CHPSS',\n",
       " '2-6#C-SP-H-S#CHPSS']"
      ]
     },
     "execution_count": 87,
     "metadata": {},
     "output_type": "execute_result"
    }
   ],
   "source": [
    "query_bonds(m)"
   ]
  },
  {
   "cell_type": "code",
   "execution_count": 43,
   "metadata": {},
   "outputs": [],
   "source": []
  },
  {
   "cell_type": "code",
   "execution_count": 100,
   "metadata": {},
   "outputs": [
    {
     "data": {
      "text/plain": [
       "{'3CCPPSS', '3CHPSS', 'CCPPSS', 'CHPSS'}"
      ]
     },
     "execution_count": 100,
     "metadata": {},
     "output_type": "execute_result"
    }
   ],
   "source": [
    "bonds = query_bonds(m)\n",
    "bonds_split = []\n",
    "for i in bonds:\n",
    "    bonds_split.append(i.split('#'))\n",
    "bonds_split = np.array(bonds_split).flatten()\n",
    "bonds_split = np.reshape(bonds_split,(int(len(bonds_split)/3),3))"
   ]
  },
  {
   "cell_type": "code",
   "execution_count": 106,
   "metadata": {},
   "outputs": [],
   "source": [
    "possible_bonds = []\n",
    "for i in range(max_size):\n",
    "    m = Chem.AddHs(Chem.MolFromSmiles(structures[i]))\n",
    "    bonds = query_bonds(m)\n",
    "    bonds_split = []\n",
    "    for i in bonds:\n",
    "        bonds_split.append(i.split('#'))\n",
    "    bonds_split = np.array(bonds_split).flatten()\n",
    "    bonds_split = np.reshape(bonds_split,(int(len(bonds_split)/3),3))\n",
    "    possible_bonds.append(list(set(bonds_split[:,2])))"
   ]
  },
  {
   "cell_type": "code",
   "execution_count": 123,
   "metadata": {},
   "outputs": [],
   "source": [
    "for sublist,i in zip(possible_bonds,range(len(possible_bonds))):\n",
    "    flag = 1 \n",
    "    for item in sublist:\n",
    "        if item == '2HOPSS':\n",
    "            flag = 0 \n",
    "            break\n",
    "    if flag == 0:\n",
    "        break"
   ]
  },
  {
   "cell_type": "code",
   "execution_count": 124,
   "metadata": {},
   "outputs": [
    {
     "data": {
      "text/plain": [
       "399"
      ]
     },
     "execution_count": 124,
     "metadata": {},
     "output_type": "execute_result"
    }
   ],
   "source": [
    "i"
   ]
  },
  {
   "cell_type": "code",
   "execution_count": 125,
   "metadata": {},
   "outputs": [
    {
     "data": {
      "text/plain": [
       "['3-5#C-SP2-C-SP2#22CCPPSS',\n",
       " '2-10#C-SP2-H-S#2CHPSS',\n",
       " '0-9#C-SP3-H-S#3CHPSS',\n",
       " '0-7#C-SP3-H-S#3CHPSS',\n",
       " '3-4#C-SP2-O-SP2#22COPPSS',\n",
       " '5-6#C-SP2-O-SP2#22COPPSS',\n",
       " '6-1#O-SP2-C-SP2#22COPPSS',\n",
       " '2-3#C-SP2-C-SP2#22CCPPSS',\n",
       " '4-11#O-SP2-H-S#2HOPSS',\n",
       " '1-2#C-SP2-C-SP2#22CCPPSS',\n",
       " '5-12#C-SP2-H-S#2CHPSS',\n",
       " '0-1#C-SP3-C-SP2#23CCPPSS',\n",
       " '0-8#C-SP3-H-S#3CHPSS']"
      ]
     },
     "execution_count": 125,
     "metadata": {},
     "output_type": "execute_result"
    }
   ],
   "source": [
    "m = Chem.AddHs(Chem.MolFromSmiles(structures[399]))\n",
    "bonds = query_bonds(m)\n",
    "bonds"
   ]
  },
  {
   "cell_type": "code",
   "execution_count": 126,
   "metadata": {},
   "outputs": [
    {
     "data": {
      "image/png": "[encoded data removed]",
      "text/plain": [
       "<rdkit.Chem.rdchem.Mol at 0x7f72773602b0>"
      ]
     },
     "execution_count": 126,
     "metadata": {},
     "output_type": "execute_result"
    }
   ],
   "source": [
    "m"
   ]
  },
  {
   "cell_type": "code",
   "execution_count": 108,
   "metadata": {},
   "outputs": [],
   "source": [
    "possible_bonds_flat = []\n",
    "for sublist in possible_bonds:\n",
    "    for item in sublist:\n",
    "        possible_bonds_flat.append(item)"
   ]
  },
  {
   "cell_type": "code",
   "execution_count": 109,
   "metadata": {},
   "outputs": [
    {
     "data": {
      "text/plain": [
       "14"
      ]
     },
     "execution_count": 109,
     "metadata": {},
     "output_type": "execute_result"
    }
   ],
   "source": [
    "len(set(possible_bonds_flat))"
   ]
  },
  {
   "cell_type": "code",
   "execution_count": 111,
   "metadata": {},
   "outputs": [
    {
     "data": {
      "text/plain": [
       "{'22CCPPSS',\n",
       " '22COPPSS',\n",
       " '23CCPPSS',\n",
       " '23COPPSS',\n",
       " '2CCPPSS',\n",
       " '2CHPSS',\n",
       " '2HOPSS',\n",
       " '33CCPPSS',\n",
       " '33COPPSS',\n",
       " '3CCPPSS',\n",
       " '3CHPSS',\n",
       " '3HOPSS',\n",
       " 'CCPPSS',\n",
       " 'CHPSS'}"
      ]
     },
     "execution_count": 111,
     "metadata": {},
     "output_type": "execute_result"
    }
   ],
   "source": [
    "set(possible_bonds_flat)"
   ]
  },
  {
   "cell_type": "code",
   "execution_count": 194,
   "metadata": {},
   "outputs": [
    {
     "data": {
      "text/plain": [
       "rdkit.Chem.rdchem.BondType.TRIPLE"
      ]
     },
     "execution_count": 194,
     "metadata": {},
     "output_type": "execute_result"
    }
   ],
   "source": [
    "y[0].GetBondType()"
   ]
  }
 ],
 "metadata": {
  "kernelspec": {
   "display_name": "Python RDKIT",
   "language": "python",
   "name": "rdkit"
  },
  "language_info": {
   "codemirror_mode": {
    "name": "ipython",
    "version": 3
   },
   "file_extension": ".py",
   "mimetype": "text/x-python",
   "name": "python",
   "nbconvert_exporter": "python",
   "pygments_lexer": "ipython3",
   "version": "3.7.10"
  }
 },
 "nbformat": 4,
 "nbformat_minor": 4
}
