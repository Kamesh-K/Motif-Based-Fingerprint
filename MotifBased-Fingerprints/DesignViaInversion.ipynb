{
 "cells": [
  {
   "cell_type": "code",
   "execution_count": 1,
   "metadata": {},
   "outputs": [],
   "source": [
    "import numpy as np\n",
    "import pandas as pd\n",
    "import os \n",
    "import matplotlib.pyplot as plt\n",
    "import sklearn.metrics as metrics\n",
    "from sklearn.preprocessing import MinMaxScaler, StandardScaler\n",
    "from sklearn.model_selection import train_test_split\n",
    "import matplotlib.pyplot as plt \n",
    "from sklearn.model_selection import GridSearchCV\n",
    "from sklearn.kernel_ridge import KernelRidge\n",
    "import seaborn as sns\n",
    "import time\n",
    "from geneticalgorithm import geneticalgorithm as ga\n",
    "base_path = os.getcwd()"
   ]
  },
  {
   "cell_type": "code",
   "execution_count": 2,
   "metadata": {},
   "outputs": [
    {
     "name": "stdout",
     "output_type": "stream",
     "text": [
      "Train Score -0.9341274563734268\n",
      "Test Score - 0.8630733053442009\n"
     ]
    }
   ],
   "source": [
    "# Training the predictive modeling function \n",
    "fingerprint_1 = pd.read_csv(\"Fingerprint_1.csv\")\n",
    "column = ['zpve']\n",
    "train_data = pd.read_csv(\"Train_Data.csv\")\n",
    "train_size = 2000\n",
    "train_ratio = train_size/len(train_data)\n",
    "sclaer_x = MinMaxScaler()\n",
    "scaler_y = StandardScaler()\n",
    "data_y = scaler_y.fit_transform(np.array(train_data[column]).reshape(-1, 1))\n",
    "\n",
    "train_X, test_X, train_Y, test_Y = train_test_split(fingerprint_1,data_y,train_size=train_ratio)\n",
    "kr = GridSearchCV(KernelRidge(kernel='rbf', gamma=0.1),\n",
    "param_grid={\"alpha\": [1e0, 0.1, 1e-2, 1e-3],\n",
    "          \"gamma\": np.logspace(-2, 2, 5)})\n",
    "t0 = time.time()\n",
    "kr.fit(train_X, train_Y)\n",
    "kr_fit = time.time() - t0\n",
    "print(\"Train Score -{}\".format(kr.score(train_X,train_Y)))\n",
    "print(\"Test Score - {}\".format(kr.score(test_X,test_Y)))"
   ]
  },
  {
   "cell_type": "code",
   "execution_count": 3,
   "metadata": {},
   "outputs": [
    {
     "data": {
      "text/html": [
       "<div>\n",
       "<style scoped>\n",
       "    .dataframe tbody tr th:only-of-type {\n",
       "        vertical-align: middle;\n",
       "    }\n",
       "\n",
       "    .dataframe tbody tr th {\n",
       "        vertical-align: top;\n",
       "    }\n",
       "\n",
       "    .dataframe thead th {\n",
       "        text-align: right;\n",
       "    }\n",
       "</style>\n",
       "<table border=\"1\" class=\"dataframe\">\n",
       "  <thead>\n",
       "    <tr style=\"text-align: right;\">\n",
       "      <th></th>\n",
       "      <th>H1</th>\n",
       "      <th>O1</th>\n",
       "      <th>O2</th>\n",
       "      <th>C4</th>\n",
       "      <th>C2</th>\n",
       "      <th>C3</th>\n",
       "    </tr>\n",
       "  </thead>\n",
       "  <tbody>\n",
       "    <tr>\n",
       "      <th>0</th>\n",
       "      <td>0.800000</td>\n",
       "      <td>0.00</td>\n",
       "      <td>0.000000</td>\n",
       "      <td>0.20</td>\n",
       "      <td>0.0</td>\n",
       "      <td>0.00</td>\n",
       "    </tr>\n",
       "    <tr>\n",
       "      <th>1</th>\n",
       "      <td>0.666667</td>\n",
       "      <td>0.00</td>\n",
       "      <td>0.333333</td>\n",
       "      <td>0.00</td>\n",
       "      <td>0.0</td>\n",
       "      <td>0.00</td>\n",
       "    </tr>\n",
       "    <tr>\n",
       "      <th>2</th>\n",
       "      <td>0.500000</td>\n",
       "      <td>0.00</td>\n",
       "      <td>0.000000</td>\n",
       "      <td>0.00</td>\n",
       "      <td>0.5</td>\n",
       "      <td>0.00</td>\n",
       "    </tr>\n",
       "    <tr>\n",
       "      <th>3</th>\n",
       "      <td>0.500000</td>\n",
       "      <td>0.25</td>\n",
       "      <td>0.000000</td>\n",
       "      <td>0.00</td>\n",
       "      <td>0.0</td>\n",
       "      <td>0.25</td>\n",
       "    </tr>\n",
       "    <tr>\n",
       "      <th>4</th>\n",
       "      <td>0.750000</td>\n",
       "      <td>0.00</td>\n",
       "      <td>0.000000</td>\n",
       "      <td>0.25</td>\n",
       "      <td>0.0</td>\n",
       "      <td>0.00</td>\n",
       "    </tr>\n",
       "  </tbody>\n",
       "</table>\n",
       "</div>"
      ],
      "text/plain": [
       "         H1    O1        O2    C4   C2    C3\n",
       "0  0.800000  0.00  0.000000  0.20  0.0  0.00\n",
       "1  0.666667  0.00  0.333333  0.00  0.0  0.00\n",
       "2  0.500000  0.00  0.000000  0.00  0.5  0.00\n",
       "3  0.500000  0.25  0.000000  0.00  0.0  0.25\n",
       "4  0.750000  0.00  0.000000  0.25  0.0  0.00"
      ]
     },
     "execution_count": 3,
     "metadata": {},
     "output_type": "execute_result"
    }
   ],
   "source": [
    "fingerprint_1.head() "
   ]
  },
  {
   "cell_type": "code",
   "execution_count": 4,
   "metadata": {},
   "outputs": [
    {
     "name": "stdout",
     "output_type": "stream",
     "text": [
      " The best solution found:                                                                           \n",
      " [0.4307605  0.04181279 0.05646882 0.10077167]\n",
      "\n",
      " Objective function:\n",
      " -1.1704295611389945\n"
     ]
    },
    {
     "data": {
      "image/png": "[encoded data removed]",
      "text/plain": [
       "<Figure size 432x288 with 1 Axes>"
      ]
     },
     "metadata": {
      "needs_background": "light"
     },
     "output_type": "display_data"
    }
   ],
   "source": [
    "# Defining the objective function\n",
    "def objective_function(fingerprint):\n",
    "    # The contraints are implemented in the objective function\n",
    "    # H1+O1+O2+C4+C2+C3 = 1\n",
    "    # H1-2*C4-C3+O1 = 0\n",
    "    # C3 = H1-2*C4+O1\n",
    "    # C2 = 1 - H1 - O1 - O2 - C4 - C3\n",
    "    fingerprint_1 = np.zeros((6))\n",
    "    C_3 = fingerprint[0]-2*fingerprint[2]+fingerprint[1]\n",
    "    C_2 = 1 - np.sum(fingerprint) - C_3\n",
    "    fingerprint_1[0:3] = fingerprint[0:3]\n",
    "    fingerprint_1[4] = C_2\n",
    "    fingerprint_1[5] = C_3\n",
    "    prediction = float(kr.predict(fingerprint_1.reshape(1, -1)).ravel()) \n",
    "    return prediction\n",
    "\n",
    "algorithm_param = {'max_num_iteration': None,\\\n",
    "                   'population_size':200,\\\n",
    "                   'mutation_probability':0.1,\\\n",
    "                   'elit_ratio': 0.01,\\\n",
    "                   'crossover_probability': 0.5,\\\n",
    "                   'parents_portion': 0.3,\\\n",
    "                   'crossover_type':'uniform',\\\n",
    "                   'max_iteration_without_improv':None}\n",
    "\n",
    "varbound=np.array([[0,1]]*4)\n",
    "\n",
    "model=ga(function=objective_function,dimension=4,variable_type='real',variable_boundaries=varbound)\n",
    "\n",
    "model.run()\n"
   ]
  }
 ],
 "metadata": {
  "kernelspec": {
   "display_name": "Python 3",
   "language": "python",
   "name": "python3"
  },
  "language_info": {
   "codemirror_mode": {
    "name": "ipython",
    "version": 3
   },
   "file_extension": ".py",
   "mimetype": "text/x-python",
   "name": "python",
   "nbconvert_exporter": "python",
   "pygments_lexer": "ipython3",
   "version": "3.8.5"
  }
 },
 "nbformat": 4,
 "nbformat_minor": 4
}
